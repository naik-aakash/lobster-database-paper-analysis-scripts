{
 "cells": [
  {
   "cell_type": "code",
   "execution_count": null,
   "id": "639910f3",
   "metadata": {},
   "outputs": [],
   "source": [
    "import plotly.graph_objs as go\n",
    "from plotly.subplots import make_subplots\n",
    "import pandas as pd\n",
    "import numpy as np\n",
    "from sklearn.linear_model import LinearRegression"
   ]
  },
  {
   "cell_type": "code",
   "execution_count": null,
   "id": "a32a13af",
   "metadata": {},
   "outputs": [],
   "source": [
    "#load the dataframes consisting of presaved plot data\n",
    "df = pd.read_pickle('lobdos.pkl')  \n",
    "df_lso= pd.read_pickle('lsolobdos.pkl')"
   ]
  },
  {
   "cell_type": "code",
   "execution_count": null,
   "id": "68642238",
   "metadata": {},
   "outputs": [],
   "source": [
    "features=['band_center','band_width','band_skew','band_kurtosis']"
   ]
  },
  {
   "cell_type": "code",
   "execution_count": null,
   "id": "73fe2525",
   "metadata": {},
   "outputs": [],
   "source": [
    "def get_band_feature_comp_plot(feature,df, path='.',extension='pdf'):\n",
    "    fig = make_subplots(rows=1, cols=3, shared_xaxes=False, shared_yaxes=False,\n",
    "                    x_title='VASP (eV)', y_title='LOBSTER (eV)', horizontal_spacing=0.035)\n",
    "    \n",
    "    # Add scatter plots to each subplot\n",
    "    fig.add_trace(go.Scatter(x=df['s_{}_VASP'.format(feature)], \n",
    "                             y=df['s_{}_LOBS'.format(feature)], mode='markers',name='s',\n",
    "                            hovertext=df.index+'<br>Composition :'+ df.Composition), row=1, col=1)\n",
    "    fig.add_trace(go.Scatter(x=df['p_{}_VASP'.format(feature)], \n",
    "                             y=df['p_{}_LOBS'.format(feature)], mode='markers',name='p',\n",
    "                            hovertext=df.index+'<br>Composition :'+ df.Composition), row=1, col=2)\n",
    "    fig.add_trace(go.Scatter(x=df['d_{}_VASP'.format(feature)], \n",
    "                             y=df['d_{}_LOBS'.format(feature)], mode='markers',name='d',\n",
    "                            hovertext=df.index+'<br>Composition :'+ df.Composition), row=1, col=3)\n",
    "    \n",
    "    X_s=df[(df['s_{}_VASP'.format(feature)].notna() & \n",
    "      df['s_{}_LOBS'.format(feature)].notna())]['s_{}_VASP'.format(feature)]\n",
    "    Y_s=df[(df['s_{}_VASP'.format(feature)].notna() & \n",
    "          df['s_{}_LOBS'.format(feature)].notna())]['s_{}_LOBS'.format(feature)]\n",
    "    model_s = LinearRegression().fit(np.array(X_s).reshape(-1,1),Y_s)\n",
    "    y_hat_s = model_s.predict(np.array(X_s).reshape(-1,1))\n",
    "    fig.add_trace(go.Scatter(x=X_s, y=y_hat_s, mode='lines',showlegend=False,line_color='#f57f1f'),row=1, col=1)\n",
    "    \n",
    "    X_p=df[(df['p_{}_VASP'.format(feature)].notna() & \n",
    "      df['p_{}_LOBS'.format(feature)].notna())]['p_{}_VASP'.format(feature)]\n",
    "    Y_p=df[(df['p_{}_VASP'.format(feature)].notna() & \n",
    "          df['p_{}_LOBS'.format(feature)].notna())]['p_{}_LOBS'.format(feature)]\n",
    "    model_p = LinearRegression().fit(np.array(X_p).reshape(-1,1),Y_p)\n",
    "    y_hat_p = model_p.predict(np.array(X_p).reshape(-1,1))\n",
    "    fig.add_trace(go.Scatter(x=X_p, y=y_hat_p, mode='lines',showlegend=False,line_color='#f57f1f'),row=1, col=2)\n",
    "    \n",
    "    X_d=df[(df['d_{}_VASP'.format(feature)].notna() & \n",
    "      df['d_{}_LOBS'.format(feature)].notna())]['d_{}_VASP'.format(feature)]\n",
    "    Y_d=df[(df['d_{}_VASP'.format(feature)].notna() & \n",
    "          df['d_{}_LOBS'.format(feature)].notna())]['d_{}_LOBS'.format(feature)]\n",
    "    model_d = LinearRegression().fit(np.array(X_d).reshape(-1,1),Y_d)\n",
    "    y_hat_d = model_d.predict(np.array(X_d).reshape(-1,1))\n",
    "    fig.add_trace(go.Scatter(x=X_d, y=y_hat_d, mode='lines',showlegend=False,line_color='#f57f1f'),row=1, col=3)\n",
    "    \n",
    "    fig.update_layout(title='{} {}'.format(feature.split('_')[0].capitalize(),feature.split('_')[1]), \n",
    "                  title_x=0.5,\n",
    "                      #margin=dict(l=50, r=50, t=100, b=50),\n",
    "                  height=700, width=1900,\n",
    "                  showlegend=False,\n",
    "                  )\n",
    "    fig.update_traces(marker=dict(size=10, color='#1878b6'))\n",
    "    \n",
    "    fig.add_annotation(xref='x domain', yref='y domain',\n",
    "                   x=0.95, y=0.5,\n",
    "                   text=r\"$R^2={}$\".format(round(model_s.score(np.array(X_s).reshape(-1,1),Y_s),4)),\n",
    "                   showarrow=False, row=1, col=1, font=dict(size=24, color='black'))\n",
    "    fig.add_annotation(xref='x domain', yref='y domain',\n",
    "                   x=0.05, y=0.95,\n",
    "                   text='s band',\n",
    "                   showarrow=False, row=1, col=1, font=dict(size=24, color='black'))\n",
    "    fig.add_annotation(xref='x domain', yref='y domain',\n",
    "                       x=0.95, y=0.5,\n",
    "                       text=r\"$R^2={}$\".format(round(model_p.score(np.array(X_p).reshape(-1,1),Y_p),4)),\n",
    "                       showarrow=False, row=1, col=2, font=dict(size=24, color='black'))\n",
    "    fig.add_annotation(xref='x domain', yref='y domain',\n",
    "                       x=0.05, y=0.95,\n",
    "                       text='p band',\n",
    "                       showarrow=False, row=1, col=2, font=dict(size=24, color='black'))\n",
    "    fig.add_annotation(xref='x domain', yref='y domain',\n",
    "                       x=0.95, y=0.5,\n",
    "                       text=r\"$R^2={}$\".format(round(model_d.score(np.array(X_d).reshape(-1,1),Y_d),4)),\n",
    "                       showarrow=False, row=1, col=3, font=dict(size=24, color='black'))\n",
    "    fig.add_annotation(xref='x domain', yref='y domain',\n",
    "                       x=0.05, y=0.95,\n",
    "                       text='d band',\n",
    "                       showarrow=False, row=1, col=3, font=dict(size=24, color='black'))\n",
    "    \n",
    "    for i in range(1, 4):\n",
    "        fig.update_yaxes(title_font=dict(size=24), color='black',row=1, col=i,tickfont = dict(size=22))\n",
    "        fig.update_xaxes(title_font=dict(size=24), color='black',row=1, col=i,tickfont = dict(size=22))\n",
    "        fig.update_xaxes(showline=True, linewidth=1, linecolor='black', mirror=True, row=1, col=i,autorange=True)\n",
    "        fig.update_yaxes(showline=True, linewidth=1, linecolor='black', mirror=True, row=1, col=i,autorange=True)\n",
    "        fig.update_xaxes(ticks=\"inside\", tickwidth=1, tickcolor='black', ticklen=5, row=1, col=i)\n",
    "        fig.update_yaxes(ticks=\"inside\", tickwidth=1, tickcolor='black', ticklen=5, row=1, col=i)\n",
    "    fig.update_layout(template='simple_white')\n",
    "    \n",
    "    if extension=='pdf':\n",
    "        fig.write_image(\"{}/{}.{}\".format(path,feature,extension),format= 'pdf', width=1900, height=700)\n",
    "    if extension=='svg':\n",
    "        fig.write_image(\"{}/{}.{}\".format(path,feature,extension),width=1900, height=700)\n",
    "    if extension=='html':\n",
    "        fig.write_html(\"{}/{}.{}\".format(path,feature,extension),include_mathjax = 'cdn')\n",
    "    #fig.show()"
   ]
  },
  {
   "cell_type": "markdown",
   "id": "06fed56d",
   "metadata": {},
   "source": [
    "#### Create directory to save the plots and then run the following two code blocks\n",
    "\n",
    "`mkdir NON_LSO LSO`"
   ]
  },
  {
   "cell_type": "code",
   "execution_count": null,
   "id": "0be0b6fb",
   "metadata": {},
   "outputs": [],
   "source": [
    "for feature in features:\n",
    "    get_band_feature_comp_plot(feature=feature,df=df, \n",
    "                           path='NON_LSO', extension='pdf')\n",
    "    get_band_feature_comp_plot(feature=feature,df=df, \n",
    "                           path='NON_LSO', extension='html')"
   ]
  },
  {
   "cell_type": "code",
   "execution_count": null,
   "id": "8ab08dd9",
   "metadata": {},
   "outputs": [],
   "source": [
    "for feature in features:\n",
    "    get_band_feature_comp_plot(feature=feature,df=df_lso, \n",
    "                           path='LSO', extension='pdf')\n",
    "    get_band_feature_comp_plot(feature=feature,df=df_lso, \n",
    "                           path='LSO', extension='html')"
   ]
  },
  {
   "cell_type": "markdown",
   "id": "0c260c3d",
   "metadata": {},
   "source": [
    "### Fingerprint Tanimoto index plots"
   ]
  },
  {
   "cell_type": "markdown",
   "id": "f7cd24cc",
   "metadata": {},
   "source": [
    "Procedure followed for obtaining data of the plots:\n",
    "1. Exclude the compounds if the number of electrons obtained from VASP summed projected DOS exceeds the actual valence electrons (Intergrate the VASP summed PDOS upto fermi level to get total valence electrons)\n",
    "2. Exclude datapoints of each orbital if contribution in the energy range (-15,0 eV) is less than 5 %\n",
    "3. For Tanimoto index > 0.7, The fingerprints are considered to be similar"
   ]
  },
  {
   "cell_type": "code",
   "execution_count": null,
   "id": "caf96296",
   "metadata": {},
   "outputs": [],
   "source": [
    "df_fil = df_lso.loc[((df_lso.NELEC_VASP/df_lso.NELEC_SYS)<=1.05)]\n",
    "s = df_fil.loc[((df_fil.s_contri_LOBS>=5) & (df_fil.s_contri_VASP>=5))]\n",
    "p = df_fil.loc[((df_fil.p_contri_LOBS>=5) & (df_fil.p_contri_VASP>=5))]\n",
    "d = df_fil.loc[((df_fil.d_contri_LOBS>=5) & (df_fil.d_contri_VASP>=5))]\n",
    "\n",
    "# Calculate fingerprint similarity percentages for annotation in plots\n",
    "frames = [s,p,d, df_fil]\n",
    "names=['_s','_p','_d','']\n",
    "percent=[]\n",
    "for frame, name in zip(frames,names):\n",
    "    similarity_mask = frame['Tanimoto_similarity{}'.format(name)] >= 0.70\n",
    "    similarity_count = frame['Tanimoto_similarity{}'.format(name)].count()\n",
    "    similar_count = frame.loc[similarity_mask, 'Tanimoto_similarity{}'.format(name)].count()\n",
    "    similar_percentage = int((similar_count / similarity_count) * 100)\n",
    "    percent.append(similar_percentage)"
   ]
  },
  {
   "cell_type": "code",
   "execution_count": null,
   "id": "6f7d9160",
   "metadata": {},
   "outputs": [],
   "source": [
    "fig = go.Figure()\n",
    "\n",
    "fig.add_trace(go.Histogram(x=s['Tanimoto_similarity_s'].values,\n",
    "                               name = 's',nbinsx=56,xbins=dict(size=0.1), histnorm ='percent'))\n",
    "fig.add_trace(go.Histogram(x=p['Tanimoto_similarity_p'].values,\n",
    "                               name = 'p',nbinsx=56,xbins=dict(size=0.1), histnorm ='percent'))\n",
    "fig.add_trace(go.Histogram(x=d['Tanimoto_similarity_d'].values,\n",
    "                               name = 'd',nbinsx=56,xbins=dict(size=0.1), histnorm ='percent'))\n",
    "fig.add_trace(go.Histogram(x=df_fil['Tanimoto_similarity'].values,\n",
    "                               name = 'summed',nbinsx=56,xbins=dict(size=0.1), histnorm ='percent'))\n",
    "fig.update_layout(barmode='group')\n",
    "fig.update_traces(opacity=0.65)\n",
    "fig.update_layout(yaxis = dict(tickfont = dict(size=18)))\n",
    "fig.update_layout(xaxis = dict(tickfont = dict(size=18)))\n",
    "fig.update_layout(template='simple_white')\n",
    "fig.update_layout( xaxis_title = 'Tanimoto similarity', yaxis_title='Percent of compounds')\n",
    "fig.update_yaxes(title_font=dict(size=22), color='black')\n",
    "fig.update_xaxes(title_font=dict(size=22), color='black')\n",
    "fig.update_xaxes(showline=True, linewidth=1, linecolor='black', mirror=True)\n",
    "fig.update_yaxes(showline=True, linewidth=1, linecolor='black', mirror=True)\n",
    "fig.update_xaxes(ticks=\"inside\", tickwidth=1, tickcolor='black', ticklen=5)\n",
    "fig.update_yaxes(ticks=\"inside\", tickwidth=1, tickcolor='black', ticklen=5)\n",
    "fig.update_layout(width=1000,height=650)\n",
    "fig.update_layout(\n",
    "    legend=dict(\n",
    "        x=0.05,\n",
    "        y=0.98,\n",
    "        orientation=\"h\",\n",
    "        traceorder=\"normal\",\n",
    "        font=dict(\n",
    "            family=\"sans-serif\",\n",
    "            size=20,\n",
    "            color=\"black\"\n",
    "        ),\n",
    "    )\n",
    ")\n",
    "fig.add_annotation(\n",
    "text='Tanimoto index >0.70 <br> <br> s-orbital ~ {} %<br> p-orbital ~ {} %<br> d-orbital ~ {} %<br>Summed: {} %'.format(percent[0],\n",
    "                                                                                      percent[1],\n",
    "                                                                                     percent[2],\n",
    "                                                                                     percent[3]), \n",
    "        align='center',\n",
    "        showarrow=False,\n",
    "        xref='x domain',\n",
    "        yref='y domain',\n",
    "        x=0.09,\n",
    "        y=0.9,\n",
    "        bordercolor='black',\n",
    "        font=dict(\n",
    "family=\"sans-serif\",\n",
    "size=20,\n",
    "color=\"black\"\n",
    "),\n",
    "borderwidth=1)\n",
    "#fig.write_image(\"lso_spd_tanimoto.pdf\",width=1000, height=650, format='pdf')\n",
    "#fig.write_html(\"lso_spd_tanimoto.html\",include_mathjax = 'cdn')"
   ]
  },
  {
   "cell_type": "code",
   "execution_count": null,
   "id": "be6891e2",
   "metadata": {},
   "outputs": [],
   "source": [
    "#Low Tanimoto index histogram\n",
    "fig = go.Figure()\n",
    "\n",
    "fig.add_trace(go.Histogram(x=s.loc[s.Tanimoto_similarity_s<=0.70]['Tanimoto_similarity_s'].values,\n",
    "                               name = 's',nbinsx=56,xbins=dict(size=0.1)))# histnorm ='percent'))\n",
    "fig.add_trace(go.Histogram(x=p.loc[p.Tanimoto_similarity_p<=0.70]['Tanimoto_similarity_p'].values,\n",
    "                               name = 'p',nbinsx=56,xbins=dict(size=0.1)))# histnorm ='percent'))\n",
    "fig.add_trace(go.Histogram(x=d.loc[d.Tanimoto_similarity_d<=0.70]['Tanimoto_similarity_d'].values,\n",
    "                               name = 'd',nbinsx=56,xbins=dict(size=0.1)))# histnorm ='percent'))\n",
    "fig.add_trace(go.Histogram(x=df_fil.loc[df_fil.Tanimoto_similarity<=0.70]['Tanimoto_similarity'].values,\n",
    "                               name = 'summed',nbinsx=56,xbins=dict(size=0.1)))# histnorm ='percent'))\n",
    "fig.update_layout(barmode='group')\n",
    "fig.update_traces(opacity=0.65)\n",
    "fig.update_layout(yaxis = dict(tickfont = dict(size=18)))\n",
    "fig.update_layout(xaxis = dict(tickfont = dict(size=18)))\n",
    "fig.update_layout(template='simple_white')\n",
    "fig.update_layout( xaxis_title = 'Tanimoto similarity', yaxis_title='Number of compounds')\n",
    "fig.update_yaxes(title_font=dict(size=22), color='black')\n",
    "fig.update_xaxes(title_font=dict(size=22), color='black')\n",
    "fig.update_xaxes(showline=True, linewidth=1, linecolor='black', mirror=True)\n",
    "fig.update_yaxes(showline=True, linewidth=1, linecolor='black', mirror=True)\n",
    "fig.update_xaxes(ticks=\"inside\", tickwidth=1, tickcolor='black', ticklen=5)\n",
    "fig.update_yaxes(ticks=\"inside\", tickwidth=1, tickcolor='black', ticklen=5)\n",
    "fig.update_layout(width=1000,height=650)\n",
    "fig.update_layout(\n",
    "    legend=dict(\n",
    "        x=0,\n",
    "        y=1,\n",
    "        traceorder=\"normal\",\n",
    "        font=dict(\n",
    "            family=\"sans-serif\",\n",
    "            size=20,\n",
    "            color=\"black\"\n",
    "        ),\n",
    "    )\n",
    ")\n",
    "#fig.write_image(\"lso_spd_tanimoto_low.pdf\",width=1000, height=650, format='pdf')\n",
    "#fig.write_html(\"lso_spd_tanimoto_low.html\",include_mathjax = 'cdn')"
   ]
  },
  {
   "cell_type": "markdown",
   "id": "c46514b0",
   "metadata": {},
   "source": [
    "### s-orbital exception list"
   ]
  },
  {
   "cell_type": "code",
   "execution_count": null,
   "id": "e20675e1",
   "metadata": {},
   "outputs": [],
   "source": [
    "s.loc[s.Tanimoto_similarity_s<=0.70]"
   ]
  },
  {
   "cell_type": "markdown",
   "id": "cf3e50d9",
   "metadata": {},
   "source": [
    "### p-orbital exception list"
   ]
  },
  {
   "cell_type": "code",
   "execution_count": null,
   "id": "2bd4c6ef",
   "metadata": {},
   "outputs": [],
   "source": [
    "p.loc[p.Tanimoto_similarity_p<=0.70]"
   ]
  },
  {
   "cell_type": "markdown",
   "id": "36b658d6",
   "metadata": {},
   "source": [
    "### d-orbital exception list"
   ]
  },
  {
   "cell_type": "code",
   "execution_count": null,
   "id": "2c91c210",
   "metadata": {},
   "outputs": [],
   "source": [
    "d.loc[d.Tanimoto_similarity_d<=0.70]"
   ]
  },
  {
   "cell_type": "markdown",
   "id": "a0f4dd21",
   "metadata": {},
   "source": [
    "### summed PDOS exception list"
   ]
  },
  {
   "cell_type": "code",
   "execution_count": null,
   "id": "149fdf57",
   "metadata": {},
   "outputs": [],
   "source": [
    "df_fil.loc[df_fil.Tanimoto_similarity<=0.70]"
   ]
  }
 ],
 "metadata": {
  "hide_input": false,
  "kernelspec": {
   "display_name": "Python 3 (ipykernel)",
   "language": "python",
   "name": "python3"
  },
  "language_info": {
   "codemirror_mode": {
    "name": "ipython",
    "version": 3
   },
   "file_extension": ".py",
   "mimetype": "text/x-python",
   "name": "python",
   "nbconvert_exporter": "python",
   "pygments_lexer": "ipython3",
   "version": "3.9.5"
  }
 },
 "nbformat": 4,
 "nbformat_minor": 5
}
