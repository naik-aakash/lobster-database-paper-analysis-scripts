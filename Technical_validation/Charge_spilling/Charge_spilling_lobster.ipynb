{
 "cells": [
  {
   "cell_type": "code",
   "execution_count": 1,
   "id": "3c327f96",
   "metadata": {},
   "outputs": [],
   "source": [
    "import os\n",
    "import pandas as pd\n",
    "import numpy as np\n",
    "import seaborn as sns\n",
    "import warnings\n",
    "import matplotlib.patches as mpl_patches\n",
    "import plotly.graph_objects as go\n",
    "from matplotlib import pyplot as plt\n",
    "from pymatgen.io.lobster import Lobsterout\n",
    "from pymatgen.core.structure import Structure\n",
    "from mendeleev import element\n",
    "sns.set_style(\"white\")\n",
    "sns.set_context(\"talk\")\n",
    "sns.set_palette([\"#0CB1F3\",\"#F34E0C\"])\n",
    "warnings.filterwarnings('ignore')"
   ]
  },
  {
   "cell_type": "code",
   "execution_count": null,
   "id": "45309998",
   "metadata": {},
   "outputs": [],
   "source": [
    "parent=os.getcwd()"
   ]
  },
  {
   "cell_type": "markdown",
   "id": "2857136e",
   "metadata": {},
   "source": [
    "#### Change to directory containing raw calculation files "
   ]
  },
  {
   "cell_type": "code",
   "execution_count": null,
   "id": "e96a3dec",
   "metadata": {},
   "outputs": [],
   "source": [
    "os.chdir('Results/') # Path to the directory where Unprocessed data (8 tar) files downloaded from zenodo are extracted"
   ]
  },
  {
   "cell_type": "code",
   "execution_count": null,
   "id": "10b1b80d",
   "metadata": {},
   "outputs": [],
   "source": [
    "mpids_lob= [f for f in os.listdir() if not f.startswith('t') and not f.startswith('.') and not f.startswith('__')\n",
    "            and os.path.isdir(f)]\n",
    "mats= list(set([ids.split('_')[0] for ids in mpids_lob]))\n",
    "mats.sort()"
   ]
  },
  {
   "cell_type": "code",
   "execution_count": null,
   "id": "53221115",
   "metadata": {},
   "outputs": [],
   "source": [
    "df=pd.DataFrame(index=mats, columns=['Formula','Spacegroup','Composition'])\n",
    "\n",
    "df['Composition'] = df['Composition'].astype(dtype='object')"
   ]
  },
  {
   "cell_type": "code",
   "execution_count": null,
   "id": "111356ee",
   "metadata": {},
   "outputs": [],
   "source": [
    "for mpid in mats: #run this block to get data from calc files\n",
    "    \n",
    "    struct=Structure.from_file('./{}/POSCAR.gz'.format(mpid))\n",
    "    \n",
    "    out = Lobsterout('{}/lobster.out.gz'.format(mpid))\n",
    "    reduced_formula= struct.composition.get_reduced_formula_and_factor()[0]\n",
    "    \n",
    "    df.loc[mpid,'Formula']=reduced_formula\n",
    "    df.loc[mpid,'Spacegroup'] = struct.get_space_group_info()[1]\n",
    "    df.at[mpid,'Composition'] = struct.composition\n",
    "    df.loc[mpid,'abs_charge_spilling']=(sum(out.charge_spilling)/2)*100\n",
    "    df.loc[mpid,'abs_totat_spilling']=(sum(out.total_spilling)/2)*100\n",
    "   "
   ]
  },
  {
   "cell_type": "code",
   "execution_count": null,
   "id": "5dc8fccd",
   "metadata": {},
   "outputs": [],
   "source": [
    "#df.to_pickle('../Charge_spilling_data.pkl')"
   ]
  },
  {
   "cell_type": "code",
   "execution_count": 2,
   "id": "f2de143f",
   "metadata": {},
   "outputs": [],
   "source": [
    "df = pd.read_pickle('Charge_spilling_data.pkl')"
   ]
  },
  {
   "cell_type": "markdown",
   "id": "d9e384b7",
   "metadata": {},
   "source": [
    "#### Get histogram for abs charge spilling < 5 %"
   ]
  },
  {
   "cell_type": "code",
   "execution_count": null,
   "id": "87702895",
   "metadata": {},
   "outputs": [],
   "source": [
    "fig = go.Figure()\n",
    "\n",
    "fig.add_trace(go.Histogram(\n",
    "    x=df.loc[df['abs_charge_spilling']<5].abs_charge_spilling, nbinsx=56,\n",
    "))\n",
    "\n",
    "fig.update_layout(yaxis = dict(tickfont = dict(size=18)))\n",
    "fig.update_layout(xaxis = dict(tickfont = dict(size=18)))\n",
    "fig.update_layout( xaxis_title = 'Abs. Charge spilling %', yaxis_title='Number of compounds')\n",
    "fig.update_yaxes(title_font=dict(size=22), color='black')\n",
    "fig.update_xaxes(title_font=dict(size=22), color='black')\n",
    "fig.update_xaxes(showline=True, linewidth=1, linecolor='black', mirror=True)\n",
    "fig.update_yaxes(showline=True, linewidth=1, linecolor='black', mirror=True)\n",
    "fig.update_xaxes(ticks=\"inside\", tickwidth=1, tickcolor='black', ticklen=5)\n",
    "fig.update_yaxes(ticks=\"inside\", tickwidth=1, tickcolor='black', ticklen=5)\n",
    "fig.update_layout(template='simple_white')\n",
    "fig.update_layout(width=1000,height=650)\n",
    "fig.show()\n",
    "#figure=\"abs_charge_spilling.pdf\"\n",
    "#fig.write_image(\"Phonon_dataset_LSO/LOBSTER_plots/{}\".format(figure),format='pdf',width=1000, height=650)"
   ]
  },
  {
   "cell_type": "markdown",
   "id": "47ca1664",
   "metadata": {},
   "source": [
    "#### Get histogram for abs charge spilling > 5 %"
   ]
  },
  {
   "cell_type": "code",
   "execution_count": null,
   "id": "b9c5a16c",
   "metadata": {},
   "outputs": [],
   "source": [
    "fig = go.Figure()\n",
    "\n",
    "fig.add_trace(go.Histogram(\n",
    "    x=df.loc[df['abs_charge_spilling']>5].abs_charge_spilling, nbinsx=56,\n",
    "))\n",
    "\n",
    "fig.update_layout(yaxis = dict(tickfont = dict(size=18)))\n",
    "fig.update_layout(xaxis = dict(tickfont = dict(size=18)))\n",
    "fig.update_layout( xaxis_title = 'Abs. Charge spilling %', yaxis_title='Number of compounds')\n",
    "fig.update_yaxes(title_font=dict(size=22), color='black')\n",
    "fig.update_xaxes(title_font=dict(size=22), color='black')\n",
    "fig.update_xaxes(showline=True, linewidth=1, linecolor='black', mirror=True)\n",
    "fig.update_yaxes(showline=True, linewidth=1, linecolor='black', mirror=True)\n",
    "fig.update_xaxes(ticks=\"inside\", tickwidth=1, tickcolor='black', ticklen=5)\n",
    "fig.update_yaxes(ticks=\"inside\", tickwidth=1, tickcolor='black', ticklen=5)\n",
    "fig.update_layout(template='simple_white')\n",
    "fig.update_layout(width=1000,height=650)\n",
    "fig.show()\n",
    "#figure=\"abs_charge_spilling.pdf\"\n",
    "#fig.write_image(\"Phonon_dataset_LSO/LOBSTER_plots/{}\".format(figure),format='pdf',width=1000, height=650)"
   ]
  },
  {
   "cell_type": "code",
   "execution_count": null,
   "id": "f3d54d65",
   "metadata": {},
   "outputs": [],
   "source": []
  }
 ],
 "metadata": {
  "hide_input": false,
  "kernelspec": {
   "display_name": "Python 3 (ipykernel)",
   "language": "python",
   "name": "python3"
  },
  "language_info": {
   "codemirror_mode": {
    "name": "ipython",
    "version": 3
   },
   "file_extension": ".py",
   "mimetype": "text/x-python",
   "name": "python",
   "nbconvert_exporter": "python",
   "pygments_lexer": "ipython3",
   "version": "3.9.5"
  }
 },
 "nbformat": 4,
 "nbformat_minor": 5
}
