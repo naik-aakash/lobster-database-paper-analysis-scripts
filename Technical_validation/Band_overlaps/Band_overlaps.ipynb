{
 "cells": [
  {
   "cell_type": "code",
   "execution_count": null,
   "id": "3ccca4b0",
   "metadata": {},
   "outputs": [],
   "source": [
    "import os\n",
    "import pandas as pd\n",
    "import plotly.graph_objects as go\n",
    "from matplotlib import pyplot as plt\n",
    "from pymatgen.io.lobster import Bandoverlaps, Lobsterout\n",
    "from pymatgen.electronic_structure.core import Spin\n",
    "from pymatgen.core import Structure\n",
    "from pymatviz import ptable_heatmap_plotly"
   ]
  },
  {
   "cell_type": "code",
   "execution_count": null,
   "id": "40f15f57",
   "metadata": {},
   "outputs": [],
   "source": [
    "os.chdir('Results')"
   ]
  },
  {
   "cell_type": "code",
   "execution_count": null,
   "id": "d3cbc868",
   "metadata": {},
   "outputs": [],
   "source": [
    "mpids= [f for f in os.listdir() if not f.startswith('t') and not f.startswith('.') and not f.startswith('__')\n",
    "            and os.path.isdir(f)]\n",
    "mats= list(set([ids.split('_')[0] for ids in mpids]))\n",
    "mats.sort() #all mpids stored in python list "
   ]
  },
  {
   "cell_type": "code",
   "execution_count": null,
   "id": "972479a9",
   "metadata": {},
   "outputs": [],
   "source": [
    "df = pd.DataFrame(index=mats,columns=['Composition','Formula','has_good_quality_maxDeviation','max_deviation',\n",
    "                                      'percent_kpoints_abv_limit'])"
   ]
  },
  {
   "cell_type": "code",
   "execution_count": null,
   "id": "6965f08e",
   "metadata": {},
   "outputs": [],
   "source": [
    "for mpid in mats:\n",
    "    if os.path.exists(os.path.join(mpid,'bandOverlaps.lobster.gz')):\n",
    "        band_olp = Bandoverlaps(filename=os.path.join(mpid,'bandOverlaps.lobster.gz'))\n",
    "        lob_out = Lobsterout(filename=os.path.join(mpid,'lobsterout.gz'))\n",
    "        struct = Structure.from_file(filename=os.path.join(mpid,'POSCAR.gz'))\n",
    "        # get total number of k-points\n",
    "        for line in lob_out.warning_lines:\n",
    "            if 'k-points could not be orthonormalized' in line:\n",
    "                total_kpoints = int(line.split(' ')[2])\n",
    "                \n",
    "        # store actual number of devations above pymatgen default limit of 0.1\n",
    "        dev_val=[]\n",
    "        for dev in band_olp.max_deviation:\n",
    "            if dev>0.1:\n",
    "                dev_val.append(dev)\n",
    "                \n",
    "        df.at[mpid,'Composition'] = struct.composition.reduced_composition\n",
    "        df.loc[mpid,'Formula'] = struct.composition.reduced_formula\n",
    "        df.loc[mpid,'has_good_quality_maxDeviation'] = band_olp.has_good_quality_maxDeviation()\n",
    "        df.loc[mpid,'max_deviation'] = round(max(band_olp.max_deviation), 4)\n",
    "        df.loc[mpid,'percent_kpoints_abv_limit'] = round((len(dev_val)/total_kpoints)*100, 4) # calculate percent of k-point"
   ]
  },
  {
   "cell_type": "code",
   "execution_count": null,
   "id": "6a7cf2ce",
   "metadata": {},
   "outputs": [],
   "source": [
    "#df.to_pickle('Band_overlaps_data.pkl')"
   ]
  },
  {
   "cell_type": "code",
   "execution_count": null,
   "id": "8f958440",
   "metadata": {},
   "outputs": [],
   "source": [
    "df = pd.read_pickle('Band_overlaps_data.pkl')"
   ]
  },
  {
   "cell_type": "code",
   "execution_count": null,
   "id": "924c86eb",
   "metadata": {},
   "outputs": [],
   "source": [
    "notna = df[df.has_good_quality_maxDeviation.notna()]"
   ]
  },
  {
   "cell_type": "code",
   "execution_count": null,
   "id": "a486ad54",
   "metadata": {},
   "outputs": [],
   "source": [
    "df_check = notna[notna.has_good_quality_maxDeviation==False]"
   ]
  },
  {
   "cell_type": "code",
   "execution_count": null,
   "id": "9715f02a",
   "metadata": {},
   "outputs": [],
   "source": [
    "# Calculate percentage of compounds having 5 % or more k-points above deviation limit of 0.1 \n",
    "(df_check[df_check.percent_kpoints_abv_limit>5].shape[0] / df.shape[0])*100"
   ]
  },
  {
   "cell_type": "markdown",
   "id": "54e8ef73",
   "metadata": {},
   "source": [
    "### Approximately 7 % compounds have more than 5% kpoints above deviation limit of 0.1"
   ]
  }
 ],
 "metadata": {
  "hide_input": false,
  "kernelspec": {
   "display_name": "Python 3 (ipykernel)",
   "language": "python",
   "name": "python3"
  },
  "language_info": {
   "codemirror_mode": {
    "name": "ipython",
    "version": 3
   },
   "file_extension": ".py",
   "mimetype": "text/x-python",
   "name": "python",
   "nbconvert_exporter": "python",
   "pygments_lexer": "ipython3",
   "version": "3.9.16"
  }
 },
 "nbformat": 4,
 "nbformat_minor": 5
}
