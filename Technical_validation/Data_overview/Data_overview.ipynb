{
 "cells": [
  {
   "cell_type": "code",
   "execution_count": null,
   "id": "b502e982",
   "metadata": {},
   "outputs": [],
   "source": [
    "import os\n",
    "import pandas as pd\n",
    "import numpy as np\n",
    "import seaborn as sns\n",
    "import warnings\n",
    "import matplotlib.patches as mpl_patches\n",
    "import plotly.graph_objects as go\n",
    "import plotly.express as px\n",
    "import plotly.io as pio\n",
    "from matplotlib import pyplot as plt\n",
    "from pymatgen.io.lobster import Lobsterout , Icohplist\n",
    "from pymatgen.core.structure import Structure\n",
    "from mendeleev import element\n",
    "sns.set_style(\"white\")\n",
    "sns.set_context(\"talk\")\n",
    "sns.set_palette([\"#0CB1F3\",\"#F34E0C\"])\n",
    "pio.templates.default = \"plotly_white\"\n",
    "warnings.filterwarnings('ignore')"
   ]
  },
  {
   "cell_type": "code",
   "execution_count": null,
   "id": "d2f6bc0f",
   "metadata": {},
   "outputs": [],
   "source": [
    "parent=os.getcwd()"
   ]
  },
  {
   "cell_type": "markdown",
   "id": "87ee9d4a",
   "metadata": {},
   "source": [
    "### Following few code blocks could be run to extract data directly from calculation files "
   ]
  },
  {
   "cell_type": "markdown",
   "id": "8bbf6928",
   "metadata": {},
   "source": [
    "#### Change to directory containing raw calculation files (Will be provided at time of final publication)"
   ]
  },
  {
   "cell_type": "code",
   "execution_count": null,
   "id": "8c255d16",
   "metadata": {},
   "outputs": [],
   "source": [
    "# Each folder is named as mp-id\n",
    "os.chdir('Results/')"
   ]
  },
  {
   "cell_type": "code",
   "execution_count": null,
   "id": "51456695",
   "metadata": {},
   "outputs": [],
   "source": [
    "# get the list of calc directories with smallest basis\n",
    "mpids_lob= [f for f in os.listdir() if not f.startswith('t') and not f.startswith('.') and not f.startswith('__')\n",
    "            and os.path.isdir(f)]\n",
    "mats= list(set([ids.split('_')[0] for ids in mpids_lob]))\n",
    "mats.sort()"
   ]
  },
  {
   "cell_type": "code",
   "execution_count": null,
   "id": "6c8b717f",
   "metadata": {},
   "outputs": [],
   "source": [
    "# initialize pandas dataframe to store the results\n",
    "df=pd.DataFrame(index=mats, columns=['Formula','Spacegroup','Composition'])\n",
    "df['Composition'] = df['Composition'].astype(dtype='object')"
   ]
  },
  {
   "cell_type": "code",
   "execution_count": null,
   "id": "f2bede04",
   "metadata": {},
   "outputs": [],
   "source": [
    "# loop through all directories to extract strongest bonds (icohp/icoop/icobi), \n",
    "# corresponding bond lenghts, atom-pair labels, charge spillings \n",
    "for mpid in mats:\n",
    "    \n",
    "    struct=Structure.from_file('./{}/POSCAR.gz'.format(mpid))\n",
    "    \n",
    "    out = Lobsterout('{}/lobster.out.gz'.format(mpid))\n",
    "    icohplist=Icohplist(filename='{}/ICOHPLIST.lobster.gz'.format(mpid))\n",
    "    icobilist=Icohplist(filename='{}/ICOBILIST.lobster.gz'.format(mpid), are_cobis=True)\n",
    "    icooplist=Icohplist(filename='{}/ICOOPLIST.lobster.gz'.format(mpid), are_coops=True)\n",
    "    \n",
    "    icobi_dict=icobilist.icohpcollection.as_dict()\n",
    "    icoop_dict=icooplist.icohpcollection.as_dict()\n",
    "    icohp_dict=icohplist.icohpcollection.as_dict()\n",
    "    \n",
    "    #cobi \n",
    "    icobi=[]\n",
    "    for i in icobi_dict['list_icohp']:\n",
    "        icobi.append(sum(i.values()))\n",
    "    max_icobi= max(icobi)\n",
    "    \n",
    "    labels_icobi=[]\n",
    "    en_icobi=[]\n",
    "    for a,b, in zip(icobi_dict['list_atom1'],icobi_dict['list_atom2']):\n",
    "        labels_icobi.append(a.rstrip('0123456789')+'-'+b.rstrip('0123456789'))\n",
    "        \n",
    "    \n",
    "    bl_icobi=[]\n",
    "    for indx, v in enumerate(icobi):\n",
    "        if v == max(icobi):\n",
    "            bl_icobi.append(icobi_dict['list_length'][indx])\n",
    "            label_icobi=labels_icobi[indx]\n",
    "            en_icobi.append(element(label_icobi.split('-')[0]).en_pauling)\n",
    "            en_icobi.append(element(label_icobi.split('-')[1]).en_pauling)\n",
    "    \n",
    "    \n",
    "    #cohp        \n",
    "    icohp=[]\n",
    "    for i in icohp_dict['list_icohp']:\n",
    "        icohp.append(sum(i.values()))\n",
    "    max_icohp= min(icohp)\n",
    "    \n",
    "    labels_icohp=[]\n",
    "    en_icohp=[]\n",
    "    for a,b, in zip(icohp_dict['list_atom1'],icohp_dict['list_atom2']):\n",
    "        labels_icohp.append(a.rstrip('0123456789')+'-'+b.rstrip('0123456789'))\n",
    "    \n",
    "    bl_icohp=[]\n",
    "    for indx, v in enumerate(icohp):\n",
    "        if v == min(icohp):\n",
    "            bl_icohp.append(icohp_dict['list_length'][indx])\n",
    "            label_icohp=labels_icohp[indx]\n",
    "            en_icohp.append(element(label_icohp.split('-')[0]).en_pauling)\n",
    "            en_icohp.append(element(label_icohp.split('-')[1]).en_pauling)\n",
    "    \n",
    "    #coop\n",
    "    icoop=[]\n",
    "    for i in icoop_dict['list_icohp']:\n",
    "        icoop.append(sum(i.values()))\n",
    "    max_icoop= max(icoop)\n",
    "    \n",
    "    labels_icoop=[]\n",
    "    en_icoop=[]\n",
    "    for a,b, in zip(icoop_dict['list_atom1'],icoop_dict['list_atom2']):\n",
    "        labels_icoop.append(a.rstrip('0123456789')+'-'+b.rstrip('0123456789'))\n",
    "    \n",
    "    bl_icoop=[]\n",
    "    \n",
    "    for indx, v in enumerate(icoop):\n",
    "        if v == max(icoop):\n",
    "            bl_icoop.append(icoop_dict['list_length'][indx])\n",
    "            label_icoop=labels_icoop[indx]\n",
    "            en_icoop.append(element(label_icoop.split('-')[0]).en_pauling)\n",
    "            en_icoop.append(element(label_icoop.split('-')[1]).en_pauling)\n",
    "    \n",
    "    reduced_formula= struct.composition.get_reduced_formula_and_factor()[0]\n",
    "    \n",
    "    df.loc[mpid,'Formula']=reduced_formula\n",
    "    df.loc[mpid,'Spacegroup'] = struct.get_space_group_info()[1]\n",
    "    df.at[mpid,'Composition'] = struct.composition\n",
    "    df.loc[mpid,'abs_charge_spilling']=(sum(out.charge_spilling)/2)*100\n",
    "    df.loc[mpid,'abs_totat_spilling']=(sum(out.total_spilling)/2)*100\n",
    "    \n",
    "    df.loc[mpid,'ICOHP_max']=max_icohp\n",
    "    df.loc[mpid,'ICOHP_bond_length']=min(bl_icohp)\n",
    "    df.loc[mpid,'ICOHP_bond_label']=label_icohp\n",
    "    df.loc[mpid,'ICOHP_en_diff']=abs(np.diff(en_icohp)[0])\n",
    "    \n",
    "    df.loc[mpid,'ICOOP_max']=max_icoop\n",
    "    df.loc[mpid,'ICOOP_bond_length']=min(bl_icoop)\n",
    "    df.loc[mpid,'ICOOP_bond_label']=label_icoop\n",
    "    df.loc[mpid,'ICOOP_en_diff']=abs(np.diff(en_icoop)[0])\n",
    "    \n",
    "    df.loc[mpid,'ICOBI_max']=max_icobi\n",
    "    df.loc[mpid,'ICOBI_bond_length']=min(bl_icobi)\n",
    "    df.loc[mpid,'ICOBI_bond_label']=label_icobi\n",
    "    df.loc[mpid,'ICOBI_en_diff']=abs(np.diff(en_icobi)[0])"
   ]
  },
  {
   "cell_type": "code",
   "execution_count": null,
   "id": "e076af63",
   "metadata": {},
   "outputs": [],
   "source": [
    "# save the dataframe\n",
    "#df.to_pickle('../Lobster_dataoverview.pkl')"
   ]
  },
  {
   "cell_type": "markdown",
   "id": "c4be0f0f",
   "metadata": {},
   "source": [
    "## Start from here to qucikly reproduce the plots from publication by loading presaved datafile"
   ]
  },
  {
   "cell_type": "code",
   "execution_count": null,
   "id": "39412243",
   "metadata": {},
   "outputs": [],
   "source": [
    "df = pd.read_pickle('Lobster_dataoverview.pkl')\n",
    "df.reset_index(inplace=True)"
   ]
  },
  {
   "cell_type": "markdown",
   "id": "3dff20d7",
   "metadata": {},
   "source": [
    "### Reproduce Fig. 5 (a)"
   ]
  },
  {
   "cell_type": "code",
   "execution_count": null,
   "id": "f1924ed6",
   "metadata": {},
   "outputs": [],
   "source": [
    "scatter = go.Scatter(\n",
    "    x=df[\"ICOHP_bond_length\"],\n",
    "    y=df[\"ICOHP_max\"],\n",
    "    mode='markers',\n",
    "    marker=dict(\n",
    "        size=10,color='#1878b6'),\n",
    "    hovertext = 'mp-id:'+ df['index']+ '<br>Bond label: ' +df['ICOHP_bond_label'] + '<br>Composition: ' + df['Formula']\n",
    ")\n",
    "\n",
    "fig = go.Figure(scatter)\n",
    "fig.update_layout(xaxis_type='log')\n",
    "fig.update_traces(marker_opacity=0.5)\n",
    "fig.update_layout(yaxis = dict(tickfont = dict(size=18)))\n",
    "fig.update_layout(xaxis = dict(tickfont = dict(size=18)))\n",
    "fig.update_yaxes(title_font=dict(size=22), color='black')\n",
    "fig.update_xaxes(title_font=dict(size=22), color='black')\n",
    "fig.update_layout(width=1000, height =1000)\n",
    "fig.update_xaxes(showline=True, linewidth=1, linecolor='black', mirror=True, showgrid=False)\n",
    "fig.update_yaxes(showline=True, linewidth=1, linecolor='black', mirror=True, showgrid=False)\n",
    "fig.update_xaxes(ticks=\"inside\", tickwidth=1, tickcolor='black', ticklen=5)\n",
    "fig.update_yaxes(ticks=\"inside\", tickwidth=1, tickcolor='black', ticklen=5)\n",
    "\n",
    "fig.update_layout(yaxis_title=\"ICOHP (eV)\", xaxis_title = '$\\\\textrm{Bond length } ({\\r{A}})$')\n",
    "fig.update_layout(yaxis = dict(tickfont = dict(size=18)))\n",
    "fig.update_layout(xaxis = dict(tickfont = dict(size=18)))\n",
    "#fig.update_xaxes(tickmode='linear', tick0=0.0, dtick=1.0)\n",
    "fig.show()\n",
    "#figure=\"ICOHP_vs_Bond_length.html\"\n",
    "#fig.write_html(\"Phonon_dataset_LSO/LOBSTER_plots/{}\".format(figure),include_mathjax = 'cdn')\n",
    "#figure=\"ICOHP_vs_Bond_length.pdf\"\n",
    "#fig.write_image(\"Phonon_dataset_LSO/LOBSTER_plots/{}\".format(figure),width=1000, height=1000)"
   ]
  },
  {
   "cell_type": "markdown",
   "id": "73be93d1",
   "metadata": {},
   "source": [
    "### Reproduce Fig 5 (b) "
   ]
  },
  {
   "cell_type": "code",
   "execution_count": null,
   "id": "f919c35a",
   "metadata": {},
   "outputs": [],
   "source": [
    "scatter = go.Scatter(\n",
    "    x=df[\"ICOBI_max\"],\n",
    "    y=df[\"ICOHP_max\"],\n",
    "    mode='markers',\n",
    "    marker=dict(\n",
    "        size=10,\n",
    "        color=df['ICOHP_en_diff'],\n",
    "        colorscale='AgSunSet',\n",
    "        colorbar=dict(title='',tickfont=dict(size=18))\n",
    "    ),\n",
    "    hovertext = 'mp-id:'+ df['index']+ '<br>Bond label: ' +df['ICOHP_bond_label'] + '<br>Composition: ' + df['Formula']\n",
    ")\n",
    "\n",
    "fig = go.Figure(scatter)\n",
    "fig.update_layout(xaxis_type='log')\n",
    "fig.update_traces(marker_opacity=0.5)\n",
    "fig.update_layout(yaxis = dict(tickfont = dict(size=18)))\n",
    "fig.update_layout(xaxis = dict(tickfont = dict(size=18)))\n",
    "fig.update_yaxes(title_font=dict(size=22), color='black')\n",
    "fig.update_xaxes(title_font=dict(size=22), color='black')\n",
    "fig.update_layout(width=1000, height =1000)\n",
    "fig.update_xaxes(showline=True, linewidth=1, linecolor='black', mirror=True, showgrid=False)\n",
    "fig.update_yaxes(showline=True, linewidth=1, linecolor='black', mirror=True, showgrid=False)\n",
    "fig.update_xaxes(ticks=\"inside\", tickwidth=1, tickcolor='black', ticklen=5)\n",
    "fig.update_yaxes(ticks=\"inside\", tickwidth=1, tickcolor='black', ticklen=5)\n",
    "\n",
    "fig.update_layout(yaxis_title=\"ICOHP (eV)\", xaxis_title = 'ICOBI')\n",
    "fig.update_layout(yaxis = dict(tickfont = dict(size=18)))\n",
    "fig.update_layout(xaxis = dict(tickfont = dict(size=18)))\n",
    "#fig.update_xaxes(tickmode='linear', tick0=0.0, dtick=1.0)\n",
    "fig.show()\n",
    "#figure=\"ICOHP_vs_ICOBI.html\"\n",
    "#fig.write_html(\"Phonon_dataset_LSO/LOBSTER_plots/{}\".format(figure),include_mathjax = 'cdn')\n",
    "#figure=\"ICOHP_vs_ICOBI.pdf\"\n",
    "#fig.write_image(\"Phonon_dataset_LSO/LOBSTER_plots/{}\".format(figure),width=1000, height=1000)"
   ]
  },
  {
   "cell_type": "markdown",
   "id": "4a276f9d",
   "metadata": {},
   "source": [
    "### Reproduce Fig 6 (a)"
   ]
  },
  {
   "cell_type": "code",
   "execution_count": null,
   "id": "fafba6f2",
   "metadata": {},
   "outputs": [],
   "source": [
    "#load the dataframe with last phdos peak values\n",
    "df_phonon = pd.read_pickle('dataforml_automatminer.pkl')\n",
    "df.set_index('index', inplace=True)"
   ]
  },
  {
   "cell_type": "code",
   "execution_count": null,
   "id": "d6dedd3a",
   "metadata": {
    "scrolled": true
   },
   "outputs": [],
   "source": [
    "# add the last phdos peak values to lobster dataframe\n",
    "for row, col in df_phonon.iterrows():\n",
    "    df.loc[row, 'last_phdos_peak'] = df_phonon.loc[row,'last phdos peak']"
   ]
  },
  {
   "cell_type": "code",
   "execution_count": null,
   "id": "8c4cb91b",
   "metadata": {
    "scrolled": false
   },
   "outputs": [],
   "source": [
    "# exclude the datapoints for which last phdos peak values are not available in matbench dataset \n",
    "filtered_df = df.loc[df.last_phdos_peak.notna()]"
   ]
  },
  {
   "cell_type": "code",
   "execution_count": null,
   "id": "a643ef4d",
   "metadata": {
    "scrolled": false
   },
   "outputs": [],
   "source": [
    "scatter = go.Scatter(\n",
    "    x=filtered_df[\"ICOHP_max\"],\n",
    "    y=filtered_df[\"last_phdos_peak\"],\n",
    "    mode='markers',\n",
    "    marker=dict(\n",
    "        size=10,color='#1878b6',\n",
    "    ),\n",
    "    hovertext = 'mp-id: '+ filtered_df.index + '<br>Composition: ' + filtered_df['Formula']\n",
    ")\n",
    "\n",
    "fig = go.Figure(scatter)\n",
    "#fig.update_layout(xaxis_type='log')\n",
    "fig.update_traces(marker_opacity=0.5)\n",
    "fig.update_layout(yaxis = dict(tickfont = dict(size=18)))\n",
    "fig.update_layout(xaxis = dict(tickfont = dict(size=18)))\n",
    "fig.update_yaxes(title_font=dict(size=22), color='black')\n",
    "fig.update_xaxes(title_font=dict(size=22), color='black')\n",
    "fig.update_layout(width=1000, height =800)\n",
    "fig.update_xaxes(showline=True, linewidth=1, linecolor='black', mirror=True, showgrid=False)\n",
    "fig.update_yaxes(showline=True, linewidth=1, linecolor='black', mirror=True, showgrid=False)\n",
    "fig.update_xaxes(ticks=\"inside\", tickwidth=1, tickcolor='black', ticklen=5)\n",
    "fig.update_yaxes(ticks=\"inside\", tickwidth=1, tickcolor='black', ticklen=5)\n",
    "\n",
    "fig.update_layout(xaxis_title=\"ICOHP (eV)\", \n",
    "                  yaxis_title = '$\\\\textrm{Highest phonon freqency }(\\\\omega \\\\text{: cm}^{⁻1})$')\n",
    "fig.update_layout(yaxis = dict(tickfont = dict(size=18)))\n",
    "fig.update_layout(xaxis = dict(tickfont = dict(size=18)))\n",
    "fig.show()\n",
    "\n",
    "#figure=\"ICOHP_vs_last_phdos_peak.html\"\n",
    "#fig.write_html(\"LOBSTER_plots/{}\".format(figure),include_mathjax = 'cdn')\n",
    "#figure=\"ICOHP_vs_last_phdos_peak.pdf\"\n",
    "#fig.write_image(\"LOBSTER_plots/{}\".format(figure),width=1000, height=800)"
   ]
  }
 ],
 "metadata": {
  "hide_input": false,
  "kernelspec": {
   "display_name": "Python 3 (ipykernel)",
   "language": "python",
   "name": "python3"
  },
  "language_info": {
   "codemirror_mode": {
    "name": "ipython",
    "version": 3
   },
   "file_extension": ".py",
   "mimetype": "text/x-python",
   "name": "python",
   "nbconvert_exporter": "python",
   "pygments_lexer": "ipython3",
   "version": "3.10.4"
  }
 },
 "nbformat": 4,
 "nbformat_minor": 5
}
