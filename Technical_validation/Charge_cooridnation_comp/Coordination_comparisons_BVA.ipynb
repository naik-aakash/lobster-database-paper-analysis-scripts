{
 "cells": [
  {
   "cell_type": "markdown",
   "id": "c837e1de",
   "metadata": {},
   "source": [
    "#### Load the necessary modules "
   ]
  },
  {
   "cell_type": "code",
   "execution_count": null,
   "id": "586320cf",
   "metadata": {},
   "outputs": [],
   "source": [
    "import os\n",
    "import seaborn as sns\n",
    "import multiprocessing as mp\n",
    "import pandas as pd\n",
    "import numpy as np\n",
    "import plotly.graph_objects as go\n",
    "import warnings\n",
    "from mendeleev import element\n",
    "from pymatgen.io.vasp.inputs import Poscar\n",
    "from pymatgen.analysis.ewald import EwaldSummation\n",
    "from pymatgen.io.lobster.outputs import Charge\n",
    "from pymatgen.core.structure import Structure\n",
    "from pymatgen.analysis.bond_valence import BVAnalyzer\n",
    "from pymatgen.core import Composition\n",
    "from pymatgen.analysis.chemenv.coordination_environments.chemenv_strategies import (\n",
    "    SimplestChemenvStrategy, MultiWeightsChemenvStrategy\n",
    ")\n",
    "from pymatgen.analysis.chemenv.coordination_environments.coordination_geometry_finder import (\n",
    "    LocalGeometryFinder,\n",
    ")\n",
    "from pymatgen.analysis.chemenv.coordination_environments.structure_environments import (\n",
    "    LightStructureEnvironments,\n",
    ")\n",
    "from pymatgen.io.lobster.lobsterenv import LobsterNeighbors\n",
    "from pymatviz.histograms import hist_elemental_prevalence\n",
    "from pymatviz.ptable import ptable_heatmap_plotly\n",
    "from tqdm import tqdm\n",
    "from IPython.display import Markdown as md\n",
    "warnings.filterwarnings(\"ignore\")"
   ]
  },
  {
   "cell_type": "markdown",
   "id": "6eb97d56",
   "metadata": {},
   "source": [
    "#### Change to directory containing raw calculation files"
   ]
  },
  {
   "cell_type": "code",
   "execution_count": null,
   "id": "b452f127",
   "metadata": {},
   "outputs": [],
   "source": [
    "parent=os.getcwd()\n",
    "os.chdir('Results/') # Path to the directory where Unprocessed data (8 tar) files downloaded from zenodo are extracted"
   ]
  },
  {
   "cell_type": "code",
   "execution_count": null,
   "id": "09ed6f94",
   "metadata": {},
   "outputs": [],
   "source": [
    "mpids= [f for f in os.listdir() if not f.startswith('t') and not f.startswith('.') and not f.startswith('__')\n",
    "            and os.path.isdir(f)]\n",
    "mats= list(set([ids.split('_')[0] for ids in mpids]))\n",
    "mats.sort()"
   ]
  },
  {
   "cell_type": "markdown",
   "id": "f05ad5ab",
   "metadata": {},
   "source": [
    "#### Call the function below to reproduce the pandas dataframe with necessary data for the plots from raw calculation files (optional)"
   ]
  },
  {
   "cell_type": "code",
   "execution_count": null,
   "id": "60fd1211",
   "metadata": {},
   "outputs": [],
   "source": [
    "def coordination_env(mpid,icohp_cutoff_strength=0.10):\n",
    "    BV = BVAnalyzer()\n",
    "    df=pd.DataFrame(index=[mpid], columns=['Formula','Composition','Spacegroup',\n",
    "                                     'Chem_env','Lobs_env','global_cordination_res','global_cordination_env',\n",
    "                                           'cordination_csm_chem','cordination_csm_lobs'])\n",
    "    df['Chem_env'] = df['Chem_env'].astype(dtype='object')\n",
    "    df['Lobs_env'] = df['Lobs_env'].astype(dtype='object')\n",
    "    df['cordination_csm_chem'] = df['cordination_csm_chem'].astype(dtype='object')\n",
    "    df['cordination_csm_lobs'] = df['cordination_csm_lobs'].astype(dtype='object')\n",
    "    \n",
    "    \n",
    "    struct=Structure.from_file(filename='./{}/POSCAR.gz'.format(mpid))\n",
    "    reduced_formula= struct.composition.get_reduced_formula_and_factor()[0]\n",
    "    df.loc[mpid,'Formula'] = reduced_formula\n",
    "    df.loc[mpid,'Spacegroup'] = struct.get_space_group_info()[1]\n",
    "    df.at[mpid,'Composition'] = struct.composition\n",
    "    \n",
    "    try:\n",
    "        lgf = LocalGeometryFinder()\n",
    "        lgf.setup_structure(structure=struct)\n",
    "        se = lgf.compute_structure_environments(\n",
    "            valences=BV.get_valences(structure=struct),\n",
    "                                       additional_conditions=[1],only_cations=False)\n",
    "        \n",
    "        strategy_simp = SimplestChemenvStrategy(distance_cutoff=1.4, angle_cutoff=0.3)\n",
    "        lse_simplest = LightStructureEnvironments.from_structure_environments(\n",
    "        strategy=strategy_simp, structure_environments=se\n",
    "        )\n",
    "        cor_chem=[]\n",
    "        csm_chem=[]\n",
    "        for i in lse_simplest.coordination_environments:\n",
    "            cor_chem.append(i[0]['ce_symbol'])\n",
    "            csm_chem.append(i[0]['csm'])\n",
    "        \n",
    "        df.at[mpid,'Chem_env']=cor_chem\n",
    "        df.at[mpid,'cordination_csm_chem']=csm_chem\n",
    "        \n",
    "        Lobs_nei= LobsterNeighbors(\n",
    "                filename_ICOHP='./{}/ICOHPLIST.lobster.gz'.format(mpid),\n",
    "                structure=struct,\n",
    "                additional_condition=1,\n",
    "                perc_strength_ICOHP=icohp_cutoff_strength,\n",
    "                filename_CHARGE='./{}/CHARGE.lobster.gz'.format(mpid),\n",
    "                valences_from_charges=True,\n",
    "                adapt_extremum_to_add_cond=True)\n",
    "\n",
    "        lse_lobs=Lobs_nei.get_light_structure_environment(only_cation_environments=False)\n",
    "\n",
    "        cor_lobs=[]\n",
    "        csm_lobs=[]\n",
    "        for i in lse_lobs.coordination_environments:\n",
    "            cor_lobs.append(i[0]['ce_symbol'])\n",
    "            csm_lobs.append(i[0]['csm'])\n",
    "\n",
    "        df.at[mpid,'Lobs_env']=cor_lobs\n",
    "        df.at[mpid,'cordination_csm_lobs']=csm_lobs\n",
    "        \n",
    "                \n",
    "        if cor_chem == cor_lobs:\n",
    "            df.loc[mpid,'global_cordination_res']= 'Agree'\n",
    "            \n",
    "        else:\n",
    "            df.loc[mpid,'global_cordination_res']= 'Disagree'\n",
    "        \n",
    "        if max(csm_chem)>2.5 and max(csm_lobs)>2.5:\n",
    "            df.loc[mpid,'global_cordination_env']= 'Distorted'\n",
    "        else:\n",
    "            df.loc[mpid,'global_cordination_env']= 'Not_Distorted'\n",
    "            \n",
    "    except (ValueError,TypeError) as e:\n",
    "        pass\n",
    "    return df"
   ]
  },
  {
   "cell_type": "code",
   "execution_count": null,
   "id": "9e828b42",
   "metadata": {},
   "outputs": [],
   "source": [
    "#run this block only if you want to get pandas dataframe from calculation files\n",
    "items=mats\n",
    "with mp.Pool(processes=14,maxtasksperchild=1) as pool:\n",
    "    results = tqdm(\n",
    "        pool.imap(coordination_env, items, chunksize=2),\n",
    "        total=len(items),\n",
    "    )  # 'total' is redundant here but can be useful\n",
    "    # when the size of the iterable is unobvious\n",
    "    row=[]\n",
    "    for result in results:\n",
    "        #print(result)\n",
    "        row.append(result)\n",
    "        \n",
    "df = pd.concat(row)"
   ]
  },
  {
   "cell_type": "code",
   "execution_count": null,
   "id": "30041eec",
   "metadata": {},
   "outputs": [],
   "source": [
    "df = pd.read_pickle('Cooridination_comp_data_bva.pkl') #Load the dataframe with precomputed data needed for the plots"
   ]
  },
  {
   "cell_type": "code",
   "execution_count": null,
   "id": "00bf194d",
   "metadata": {},
   "outputs": [],
   "source": [
    "#fil= df.loc[df.global_cordination_env=='Not_Distorted']\n",
    "fil= df.loc[df.global_cordination_env.notnull()]"
   ]
  },
  {
   "cell_type": "code",
   "execution_count": null,
   "id": "4d08dc5a",
   "metadata": {},
   "outputs": [],
   "source": [
    "agree=0\n",
    "disagree=0\n",
    "for rwo, col in fil.iterrows():\n",
    "    for a, b,in zip(col['Chem_env'],col['Lobs_env']):\n",
    "        if a==b:# and c<3:# and d<2.5:\n",
    "            agree+=1\n",
    "        else:\n",
    "            disagree+=1"
   ]
  },
  {
   "cell_type": "code",
   "execution_count": null,
   "id": "6567c5ba",
   "metadata": {},
   "outputs": [],
   "source": [
    "agree/(agree+disagree)"
   ]
  },
  {
   "cell_type": "markdown",
   "id": "88e2f484",
   "metadata": {},
   "source": [
    "<h3><center>We see 79% environments agree</center></h3>"
   ]
  }
 ],
 "metadata": {
  "hide_input": false,
  "kernelspec": {
   "display_name": "Python 3 (ipykernel)",
   "language": "python",
   "name": "python3"
  },
  "language_info": {
   "codemirror_mode": {
    "name": "ipython",
    "version": 3
   },
   "file_extension": ".py",
   "mimetype": "text/x-python",
   "name": "python",
   "nbconvert_exporter": "python",
   "pygments_lexer": "ipython3",
   "version": "3.9.5"
  }
 },
 "nbformat": 4,
 "nbformat_minor": 5
}
