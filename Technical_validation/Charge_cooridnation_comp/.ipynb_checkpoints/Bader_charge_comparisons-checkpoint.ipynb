{
 "cells": [
  {
   "cell_type": "markdown",
   "id": "a8299d13",
   "metadata": {},
   "source": [
    "#### Load the necessary modules "
   ]
  },
  {
   "cell_type": "code",
   "execution_count": null,
   "id": "a4a408bd",
   "metadata": {},
   "outputs": [],
   "source": [
    "import os\n",
    "import seaborn as sns\n",
    "import multiprocessing as mp\n",
    "import pandas as pd\n",
    "import numpy as np\n",
    "import plotly.graph_objects as go\n",
    "import warnings\n",
    "from mendeleev import element\n",
    "from pymatgen.io.vasp.inputs import Poscar\n",
    "from pymatgen.analysis.ewald import EwaldSummation\n",
    "from pymatgen.io.lobster.outputs import Charge\n",
    "from pymatgen.core.structure import Structure\n",
    "from pymatgen.analysis.bond_valence import BVAnalyzer\n",
    "from pymatgen.core import Composition\n",
    "from pymatgen.analysis.chemenv.coordination_environments.chemenv_strategies import (\n",
    "    SimplestChemenvStrategy, MultiWeightsChemenvStrategy\n",
    ")\n",
    "from pymatgen.analysis.chemenv.coordination_environments.coordination_geometry_finder import (\n",
    "    LocalGeometryFinder,\n",
    ")\n",
    "from pymatgen.analysis.chemenv.coordination_environments.structure_environments import (\n",
    "    LightStructureEnvironments,\n",
    ")\n",
    "from pymatgen.io.lobster.lobsterenv import LobsterNeighbors\n",
    "from pymatviz.histograms import hist_elemental_prevalence\n",
    "from pymatviz.ptable import ptable_heatmap_plotly\n",
    "from tqdm import tqdm\n",
    "from IPython.display import Markdown as md\n",
    "warnings.filterwarnings(\"ignore\")"
   ]
  },
  {
   "cell_type": "code",
   "execution_count": null,
   "id": "041ebb7b",
   "metadata": {},
   "outputs": [],
   "source": [
    "parent=os.getcwd()\n",
    "os.chdir('Results/') #Change to directory containing raw calculation files"
   ]
  },
  {
   "cell_type": "code",
   "execution_count": null,
   "id": "dee5c554",
   "metadata": {},
   "outputs": [],
   "source": [
    "mpids= [f for f in os.listdir() if not f.startswith('t') and not f.startswith('.') and not f.startswith('__')\n",
    "            and os.path.isdir(f)]\n",
    "mats= list(set([ids.split('_')[0] for ids in mpids]))\n",
    "mats.sort()"
   ]
  },
  {
   "cell_type": "code",
   "execution_count": null,
   "id": "0d9c160f",
   "metadata": {},
   "outputs": [],
   "source": [
    "df_bader= pd.read_pickle('./bader_charges.pkl')"
   ]
  },
  {
   "cell_type": "code",
   "execution_count": null,
   "id": "8b2eb05e",
   "metadata": {},
   "outputs": [],
   "source": [
    "mats = list(df_bader.loc[df_bader.Comment_struct=='Matched'].index)\n",
    "mats.remove('mp-6270')"
   ]
  },
  {
   "cell_type": "code",
   "execution_count": null,
   "id": "771b0711",
   "metadata": {},
   "outputs": [],
   "source": [
    "def comp_cation_anion(mpid,df_bader=df_bader):\n",
    "    df=pd.DataFrame(index=[mpid], columns=['Formula','Composition','Spacegroup','Bader_oxi','Loew_oxi','Mull_oxi',\n",
    "                                           'Comp_en_diff','Mull_Bader_elements', 'Loew_Bader_elements',\n",
    "                                           'Mull_Loew_elements','Bader_structure'])\n",
    "    \n",
    "    df['Composition'] = df['Composition'].astype(dtype='object')\n",
    "    df['Bader_oxi'] = df['Bader_oxi'].astype(dtype='object')\n",
    "    df['Loew_oxi'] = df['Loew_oxi'].astype(dtype='object')\n",
    "    df['Mull_oxi'] = df['Mull_oxi'].astype(dtype='object')\n",
    "    df['Mull_Bader_elements'] = df['Mull_Bader_elements'].astype(dtype='object')\n",
    "    df['Loew_Bader_elements'] = df['Loew_Bader_elements'].astype(dtype='object')\n",
    "    df['Mull_Loew_elements'] = df['Mull_Loew_elements'].astype(dtype='object')\n",
    "    df['Bader_structure'] = df['Bader_structure'].astype(dtype='object')\n",
    "    #BV = BVAnalyzer()\n",
    "    \n",
    "    Lobs_charge = Charge(filename='./{}/CHARGE.lobster.gz'.format(mpid))\n",
    "    \n",
    "    struct=Poscar.from_file(filename='./{}/POSCAR.gz'.format(mpid))\n",
    "    reduced_formula= struct.structure.composition.get_reduced_formula_and_factor()[0]\n",
    "    df.loc[mpid,'Formula'] = reduced_formula\n",
    "    df.loc[mpid,'Spacegroup'] = struct.structure.get_space_group_info()[1]\n",
    "    df.at[mpid,'Composition'] = struct.structure.composition\n",
    "    df.at[mpid,'Bader_structure'] = df_bader.at[mpid,'aflow_struct']\n",
    "    \n",
    "    en={} #store pauling electronegativities in a dict\n",
    "    for i in struct.structure.composition:\n",
    "        #en.append(element((i.symbol)).en_pauling)\n",
    "        en[i.symbol]=element((i.symbol)).en_pauling\n",
    "    \n",
    "    differences = {} #stores electronegativtiy differencens between unique atom pairs in composition\n",
    "    for key1 in en:\n",
    "        for key2 in en:\n",
    "            if key1 != key2:\n",
    "                if key2+'-'+key1 not in differences:\n",
    "                    diff = abs(en[key1] - en[key2])\n",
    "                    differences[key1+'-'+key2] = diff\n",
    "                    \n",
    "    df.at[mpid,'Comp_en_diff']=differences\n",
    "    \n",
    "    \n",
    "    bader_struct_sorted = df_bader.at[mpid,'aflow_struct'].get_sorted_structure()\n",
    "    bader_charges=[]\n",
    "    for oxi in bader_struct_sorted.species:\n",
    "        bader_charges.append(oxi.oxi_state)\n",
    "\n",
    "    \n",
    "    #try:\n",
    "    Bader_oxi=[]\n",
    "\n",
    "    for i in bader_charges:\n",
    "        if i>=0:\n",
    "            Bader_oxi.append('POS')\n",
    "        else:\n",
    "            Bader_oxi.append('NEG')\n",
    "                \n",
    "    df.at[mpid,'Bader_oxi'] = bader_charges\n",
    "        #struct.structure.add_oxidation_state_by_site(BV.get_valences(structure=struct.structure))\n",
    "    Bader_ews =EwaldSummation(bader_struct_sorted)\n",
    "    df.loc[mpid,'Madelung_Bader'] = Bader_ews.total_energy\n",
    "\n",
    "    loew=[]\n",
    "    for i in Lobs_charge.Loewdin:\n",
    "        if i>=0:\n",
    "            loew.append('POS')\n",
    "        else:\n",
    "            loew.append('NEG')\n",
    "        \n",
    "    df.at[mpid,'Loew_oxi'] = Lobs_charge.Loewdin\n",
    "    struct.structure.add_oxidation_state_by_site(Lobs_charge.Loewdin)\n",
    "    Loew_ews =EwaldSummation(struct.structure)\n",
    "    df.loc[mpid,'Madelung_Loew'] = Loew_ews.total_energy\n",
    "\n",
    "    Mull=[]\n",
    "    for i in Lobs_charge.Mulliken:\n",
    "        if i>=0:\n",
    "            Mull.append('POS')\n",
    "        else:\n",
    "            Mull.append('NEG')\n",
    "        \n",
    "    df.at[mpid,'Mull_oxi'] = Lobs_charge.Mulliken\n",
    "    struct.structure.add_oxidation_state_by_site(Lobs_charge.Mulliken)\n",
    "    Mull_ews =EwaldSummation(struct.structure)\n",
    "    df.loc[mpid,'Madelung_Mull'] = Mull_ews.total_energy\n",
    "        \n",
    "    if Mull==Bader_oxi:\n",
    "        df.at[mpid,'Mull_Bader_comp'] = 'Agree'\n",
    "    else:\n",
    "        df.at[mpid,'Mull_Bader_comp'] = 'Disagree'\n",
    "        issues=[]\n",
    "        for i,(mull,bader) in enumerate(zip(Mull,Bader_oxi)):\n",
    "            if mull!=bader:\n",
    "                if struct.structure.sites[i].specie.symbol not in issues:\n",
    "                    issues.append(struct.structure.sites[i].specie.symbol)\n",
    "                    \n",
    "            df.at[mpid,'Mull_Bader_elements'] = Composition(''.join(issues)) #disagree elements\n",
    "            \n",
    "    if loew==Bader_oxi:\n",
    "        df.at[mpid,'Loew_Bader_comp'] = 'Agree'\n",
    "    else:\n",
    "        df.at[mpid,'Loew_Bader_comp'] = 'Disagree'\n",
    "        issues=[]\n",
    "        for i,(loe,bader) in enumerate(zip(loew,Bader_oxi)):\n",
    "            if loe!=bader:\n",
    "                if struct.structure.sites[i].specie.symbol not in issues:\n",
    "                    issues.append(struct.structure.sites[i].specie.symbol)\n",
    "\n",
    "        df.at[mpid,'Loew_Bader_elements'] = Composition(''.join(issues)) #disagree elements\n",
    "        \n",
    "    if Mull==loew:\n",
    "        df.at[mpid,'Mull_Loew_comp'] = 'Agree'\n",
    "    else:\n",
    "        df.at[mpid,'Mull_Loew_comp'] = 'Disagree'\n",
    "        issues=[]\n",
    "        for i,(loe,mull) in enumerate(zip(loew,Mull)):\n",
    "            if loe!=mull:\n",
    "                if struct.structure.sites[i].specie.symbol not in issues:\n",
    "                    issues.append(struct.structure.sites[i].specie.symbol)\n",
    "        df.at[mpid,'Mull_Loew_elements'] = Composition(''.join(issues)) #disagree elements\n",
    "    return df"
   ]
  },
  {
   "cell_type": "code",
   "execution_count": null,
   "id": "15aaeb38",
   "metadata": {},
   "outputs": [],
   "source": [
    "#run this block only if you want to get pandas dataframe from calculation files\n",
    "items=mats\n",
    "with mp.Pool(processes=14,maxtasksperchild=1) as pool:\n",
    "    results = tqdm(\n",
    "        pool.imap(comp_cation_anion, items, chunksize=2),\n",
    "        total=len(items),\n",
    "    )  # 'total' is redundant here but can be useful\n",
    "    # when the size of the iterable is unobvious\n",
    "    row=[]\n",
    "    for result in results:\n",
    "        #print(result)\n",
    "        row.append(result)\n",
    "        \n",
    "df = pd.concat(row)"
   ]
  },
  {
   "cell_type": "code",
   "execution_count": null,
   "id": "b71d1da2",
   "metadata": {},
   "outputs": [],
   "source": [
    "df = pd.read_pickle('./Charge_comp_data_bader.pkl') #Load the dataframe with precomputed data needed for the plots"
   ]
  },
  {
   "cell_type": "code",
   "execution_count": null,
   "id": "3ba3916d",
   "metadata": {},
   "outputs": [],
   "source": [
    "agree_per = (df.loc[df.Mull_Bader_comp=='Agree'].shape[0] / df.loc[df.Mull_Bader_comp.notna()].shape[0]) * 100"
   ]
  },
  {
   "cell_type": "code",
   "execution_count": null,
   "id": "bdfa1e23",
   "metadata": {},
   "outputs": [],
   "source": [
    "agree_per"
   ]
  },
  {
   "cell_type": "markdown",
   "id": "260b2f0a",
   "metadata": {},
   "source": [
    "<h3><center>We see 91 % agreement with Bader charge analysis method</center></h3>"
   ]
  },
  {
   "cell_type": "markdown",
   "id": "214b7483",
   "metadata": {},
   "source": [
    "<h3><center>Get scatter plot with electronegativity difference plot for compounds with disagreement wih Bader method</center></h3>"
   ]
  },
  {
   "cell_type": "code",
   "execution_count": null,
   "id": "4fc690d1",
   "metadata": {},
   "outputs": [],
   "source": [
    "figmain = go.Figure()\n",
    "\n",
    "\n",
    "for row, col in df.loc[df.Mull_Bader_comp=='Disagree'][20:50].iterrows(): # change the index slices to get all 3 plots as shown in SI\n",
    "    for i, (k, v) in enumerate(col['Comp_en_diff'].items()):\n",
    "        \n",
    "        figmain.add_trace(go.Scatter(y=[v],\n",
    "                             x=[row+':'+col['Formula']],\n",
    "                                     marker=dict(size=10,color='#1878b6'), name = k))\n",
    "        \n",
    "        figmain.add_annotation(x=row+':'+col['Formula'], y=v, text=k, showarrow=False,\n",
    "                               textangle=0, font=dict(size=14, color='black', family='Arial'),\n",
    "                               xanchor='center', yanchor='bottom')\n",
    "        \n",
    "figmain.update_traces(opacity=0.9)\n",
    "figmain.update_layout(yaxis = dict(tickfont = dict(size=18)))\n",
    "figmain.update_layout(xaxis = dict(tickfont = dict(size=12)))\n",
    "figmain.update_layout(template='simple_white')\n",
    "figmain.update_layout( xaxis_title = 'Compounds', yaxis_title='Electronegativity')\n",
    "figmain.update_yaxes(title_font=dict(size=22), color='black')\n",
    "figmain.update_xaxes(title_font=dict(size=22), color='black')\n",
    "figmain.update_xaxes(showline=True, linewidth=1, linecolor='black', mirror=True)\n",
    "figmain.update_yaxes(showline=True, linewidth=1, linecolor='black', mirror=True)\n",
    "figmain.update_xaxes(ticks=\"inside\", tickwidth=1, tickcolor='black', ticklen=5,tickangle=90)\n",
    "figmain.update_yaxes(ticks=\"inside\", tickwidth=1, tickcolor='black', ticklen=5)\n",
    "figmain.update_layout(showlegend=False)\n",
    "figmain.update_layout(width=1000,height=650)\n",
    "figmain.show()\n",
    "#figmain.write_image(\"/en_diff_scatter_1.pdf\",width=1000, height=650)\n",
    "#figmain.write_html(\"./en_diff_scatter_1.html\",include_mathjax = 'cdn')"
   ]
  },
  {
   "cell_type": "markdown",
   "id": "a8fef7f2",
   "metadata": {},
   "source": [
    "<h3><center> Save periodic table heatmap for elements where cation-anion classification disagrees with Bader charge analysis method</center></h3>"
   ]
  },
  {
   "cell_type": "code",
   "execution_count": null,
   "id": "a579e5bc",
   "metadata": {},
   "outputs": [],
   "source": [
    "fig = ptable_heatmap_plotly(df.loc[df.Mull_Bader_comp=='Disagree'].Mull_Bader_elements)\n",
    "fig.show()"
   ]
  },
  {
   "cell_type": "code",
   "execution_count": null,
   "id": "34f9784a",
   "metadata": {},
   "outputs": [],
   "source": [
    "fig.write_image(\"./Elements_heatmap_mull_Bader.pdf\",width=1000, height=650)"
   ]
  },
  {
   "cell_type": "code",
   "execution_count": null,
   "id": "29d8e173",
   "metadata": {
    "scrolled": false
   },
   "outputs": [],
   "source": [
    "fig = ptable_heatmap_plotly(df.loc[df.Loew_Bader_comp=='Disagree'].Loew_Bader_elements)\n",
    "fig.show()"
   ]
  },
  {
   "cell_type": "code",
   "execution_count": null,
   "id": "59a48165",
   "metadata": {},
   "outputs": [],
   "source": [
    "fig.write_image(\"./Elements_heatmap_loew_Bader.pdf\",width=1000, height=650)"
   ]
  },
  {
   "cell_type": "markdown",
   "id": "284937d2",
   "metadata": {},
   "source": [
    "<h3><center> Get scatter plot to compare Madelung energies for crystal structure from Bader and Mulliken chargers </center></h3>"
   ]
  },
  {
   "cell_type": "code",
   "execution_count": null,
   "id": "1e508f59",
   "metadata": {
    "scrolled": false
   },
   "outputs": [],
   "source": [
    "fig = go.Figure()\n",
    "\n",
    "fig.add_trace(go.Scatter(y=df.loc[df.Mull_Bader_comp=='Agree'].Madelung_Bader,\n",
    "                             x=df.loc[df.Mull_Bader_comp=='Agree'].Madelung_Mull,\n",
    "hovertext=df.loc[df.Mull_Bader_comp=='Agree'].index+'<br>Composition :'+ df.loc[df.Mull_Bader_comp=='Agree'].Formula,\n",
    "                                     marker=dict(size=10,color='#1878b6'), name = 'Agree',mode='markers'))\n",
    "\n",
    "fig.add_trace(go.Scatter(y=df.loc[df.Mull_Bader_comp=='Disagree'].Madelung_Bader,\n",
    "                             x=df.loc[df.Mull_Bader_comp=='Disagree'].Madelung_Mull,\n",
    "hovertext=df.loc[df.Mull_Bader_comp=='Disagree'].index+'<br>Composition :'+ df.loc[df.Mull_Bader_comp=='Disagree'].Formula,\n",
    "                                     marker=dict(size=10,color='#F34E0C'), name = 'Disagree', mode='markers'))\n",
    "\n",
    "fig.update_traces(marker_size=10)\n",
    "fig.update_traces(marker_opacity=0.5)\n",
    "fig.update_layout(yaxis = dict(tickfont = dict(size=22)))\n",
    "fig.update_layout(xaxis = dict(tickfont = dict(size=22)))\n",
    "fig.update_layout(yaxis_title=\"Madelung Bader (eV)\", xaxis_title = 'Madelung Mulliken (eV)')\n",
    "fig.update_yaxes(title_font=dict(size=24), color='black')\n",
    "fig.update_xaxes(title_font=dict(size=24), color='black')\n",
    "fig.update_xaxes(showline=True, linewidth=1, linecolor='black', mirror=True)\n",
    "fig.update_yaxes(showline=True, linewidth=1, linecolor='black', mirror=True)\n",
    "fig.update_xaxes(ticks=\"inside\", tickwidth=1, tickcolor='black', ticklen=5)\n",
    "fig.update_yaxes(ticks=\"inside\", tickwidth=1, tickcolor='black', ticklen=5)\n",
    "fig.update_layout(template='simple_white')\n",
    "fig.update_layout(width=900,height=900)\n",
    "fig.update_xaxes(range=[-780,10])\n",
    "fig.update_yaxes(range=[-780,10])\n",
    "fig.update_layout(\n",
    "    legend=dict(\n",
    "        x=0,\n",
    "        y=1,\n",
    "        traceorder=\"normal\",\n",
    "        font=dict(\n",
    "            family=\"sans-serif\",\n",
    "            size=20,\n",
    "            color=\"black\"\n",
    "        ),\n",
    "    )\n",
    ")\n",
    "\n",
    "fig.show()"
   ]
  },
  {
   "cell_type": "markdown",
   "id": "727b9431",
   "metadata": {},
   "source": [
    "<h3><center> BVA Bader charge comp </center></h3>"
   ]
  },
  {
   "cell_type": "code",
   "execution_count": null,
   "id": "8e66da8a",
   "metadata": {},
   "outputs": [],
   "source": [
    "def comp_cation_anion_bva_bader(mpid,df_bader=df_bader):\n",
    "    df=pd.DataFrame(index=[mpid], columns=['Formula','Composition','Spacegroup','Bader_oxi','BVA_oxi',\n",
    "                                           'Comp_en_diff','BVA_Bader_elements','Bader_structure'])\n",
    "    \n",
    "    df['Composition'] = df['Composition'].astype(dtype='object')\n",
    "    df['Bader_oxi'] = df['Bader_oxi'].astype(dtype='object')\n",
    "    df['BVA_oxi'] = df['BVA_oxi'].astype(dtype='object')\n",
    "    df['BVA_Bader_elements'] = df['BVA_Bader_elements'].astype(dtype='object')\n",
    "    df['Bader_structure'] = df['Bader_structure'].astype(dtype='object')\n",
    "    BV = BVAnalyzer()\n",
    "    \n",
    "    #Lobs_charge = Charge(filename='./{}/CHARGE.lobster.gz'.format(mpid))\n",
    "    \n",
    "    struct=Poscar.from_file(filename='./{}/POSCAR.gz'.format(mpid))\n",
    "    reduced_formula= struct.structure.composition.get_reduced_formula_and_factor()[0]\n",
    "    df.loc[mpid,'Formula'] = reduced_formula\n",
    "    df.loc[mpid,'Spacegroup'] = struct.structure.get_space_group_info()[1]\n",
    "    df.at[mpid,'Composition'] = struct.structure.composition\n",
    "    df.at[mpid,'Bader_structure'] = df_bader.at[mpid,'aflow_struct']\n",
    "    \n",
    "    en={} #store pauling electronegativities in a dict\n",
    "    for i in struct.structure.composition:\n",
    "        #en.append(element((i.symbol)).en_pauling)\n",
    "        en[i.symbol]=element((i.symbol)).en_pauling\n",
    "    \n",
    "    differences = {} #stores electronegativtiy differencens between unique atom pairs in composition\n",
    "    for key1 in en:\n",
    "        for key2 in en:\n",
    "            if key1 != key2:\n",
    "                if key2+'-'+key1 not in differences:\n",
    "                    diff = abs(en[key1] - en[key2])\n",
    "                    differences[key1+'-'+key2] = diff\n",
    "                    \n",
    "    df.at[mpid,'Comp_en_diff']=differences\n",
    "    \n",
    "    \n",
    "    bader_struct_sorted = df_bader.at[mpid,'aflow_struct'].get_sorted_structure()\n",
    "    bader_charges=[]\n",
    "    for oxi in bader_struct_sorted.species:\n",
    "        bader_charges.append(oxi.oxi_state)\n",
    "\n",
    "    \n",
    "    #try:\n",
    "    Bader_oxi=[]\n",
    "\n",
    "    for i in bader_charges:\n",
    "        if i>=0:\n",
    "            Bader_oxi.append('POS')\n",
    "        else:\n",
    "            Bader_oxi.append('NEG')\n",
    "                \n",
    "    df.at[mpid,'Bader_oxi'] = bader_charges\n",
    "        #struct.structure.add_oxidation_state_by_site(BV.get_valences(structure=struct.structure))\n",
    "    Bader_ews =EwaldSummation(bader_struct_sorted)\n",
    "    df.loc[mpid,'Madelung_Bader'] = Bader_ews.total_energy\n",
    "    try:\n",
    "        BVA_oxi=[]\n",
    "\n",
    "        for i in BV.get_valences(structure=struct.structure):\n",
    "            if i>=0:\n",
    "                BVA_oxi.append('POS')\n",
    "            else:\n",
    "                BVA_oxi.append('NEG')\n",
    "                \n",
    "        df.at[mpid,'BVA_oxi'] = BV.get_valences(structure=struct.structure)\n",
    "        struct.structure.add_oxidation_state_by_site(BV.get_valences(structure=struct.structure))\n",
    "        BVA_ews =EwaldSummation(struct.structure)\n",
    "        df.loc[mpid,'Madelung_BVA'] = BVA_ews.total_energy\n",
    "    \n",
    "        \n",
    "        if BVA_oxi==Bader_oxi:\n",
    "            df.at[mpid,'BVA_Bader_comp'] = 'Agree'\n",
    "        else:\n",
    "            df.at[mpid,'BVA_Bader_comp'] = 'Disagree'\n",
    "            issues=[]\n",
    "            for i,(bva,bader) in enumerate(zip(BVA_oxi,Bader_oxi)):\n",
    "                if bva!=bader:\n",
    "                    if struct.structure.sites[i].specie.symbol not in issues:\n",
    "                        issues.append(struct.structure.sites[i].specie.symbol)\n",
    "\n",
    "                df.at[mpid,'BVA_Bader_elements'] = Composition(''.join(issues)) #disagree elements\n",
    "    except:\n",
    "        pass\n",
    "    \n",
    "    return df"
   ]
  },
  {
   "cell_type": "code",
   "execution_count": null,
   "id": "8fc788ad",
   "metadata": {},
   "outputs": [],
   "source": [
    "#run this block only if you want to get pandas dataframe from calculation files\n",
    "items=mats\n",
    "with mp.Pool(processes=14,maxtasksperchild=1) as pool:\n",
    "    results = tqdm(\n",
    "        pool.imap(comp_cation_anion_bva_bader, items, chunksize=2),\n",
    "        total=len(items),\n",
    "    )  # 'total' is redundant here but can be useful\n",
    "    # when the size of the iterable is unobvious\n",
    "    row=[]\n",
    "    for result in results:\n",
    "        #print(result)\n",
    "        row.append(result)\n",
    "        \n",
    "df_bva_bader = pd.concat(row)"
   ]
  },
  {
   "cell_type": "code",
   "execution_count": null,
   "id": "02ff0c5d",
   "metadata": {},
   "outputs": [],
   "source": [
    "agree_per = (df_bva_bader.loc[df_bva_bader.BVA_Bader_comp=='Agree'].shape[0] /\n",
    "             df_bva_bader.loc[df_bva_bader.BVA_Bader_comp.notna()].shape[0]) * 100"
   ]
  },
  {
   "cell_type": "code",
   "execution_count": null,
   "id": "c852c843",
   "metadata": {},
   "outputs": [],
   "source": [
    "agree_per"
   ]
  },
  {
   "cell_type": "markdown",
   "id": "f29417cc",
   "metadata": {},
   "source": [
    "<h3><center>We see 95 % agreement between BVA and Bader charge analysis method</center></h3>"
   ]
  },
  {
   "cell_type": "code",
   "execution_count": null,
   "id": "996d8d21",
   "metadata": {},
   "outputs": [],
   "source": [
    "fig = ptable_heatmap_plotly(df_bva_bader.loc[df_bva_bader.BVA_Bader_comp=='Disagree'].BVA_Bader_elements)\n",
    "fig.show()"
   ]
  },
  {
   "cell_type": "code",
   "execution_count": null,
   "id": "579584ae",
   "metadata": {},
   "outputs": [],
   "source": [
    "fig.write_image(\"./Elements_heatmap_BVA_Bader.pdf\",width=1000, height=650)"
   ]
  }
 ],
 "metadata": {
  "hide_input": false,
  "kernelspec": {
   "display_name": "Python 3 (ipykernel)",
   "language": "python",
   "name": "python3"
  },
  "language_info": {
   "codemirror_mode": {
    "name": "ipython",
    "version": 3
   },
   "file_extension": ".py",
   "mimetype": "text/x-python",
   "name": "python",
   "nbconvert_exporter": "python",
   "pygments_lexer": "ipython3",
   "version": "3.10.9"
  }
 },
 "nbformat": 4,
 "nbformat_minor": 5
}
