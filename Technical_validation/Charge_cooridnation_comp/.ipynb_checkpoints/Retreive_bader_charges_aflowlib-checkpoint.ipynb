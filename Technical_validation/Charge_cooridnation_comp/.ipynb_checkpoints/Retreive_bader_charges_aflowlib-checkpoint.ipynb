{
 "cells": [
  {
   "cell_type": "code",
   "execution_count": null,
   "id": "c59d1d53",
   "metadata": {},
   "outputs": [],
   "source": [
    "import requests\n",
    "import json\n",
    "import numpy as np\n",
    "import pandas as pd\n",
    "from urllib.error import HTTPError\n",
    "from time import sleep\n",
    "import json, sys, os\n",
    "from urllib.request import urlopen\n",
    "from pymatgen.ext.matproj import MPRester\n",
    "from pymatgen.core import Structure\n",
    "from pymatgen.io.vasp.inputs import Poscar\n",
    "from pymatgen.analysis.ewald import EwaldSummation\n",
    "from pymatgen.analysis.structure_matcher import StructureMatcher"
   ]
  },
  {
   "cell_type": "code",
   "execution_count": null,
   "id": "32824ff7",
   "metadata": {},
   "outputs": [],
   "source": [
    "SM=StructureMatcher(ltol=0.2, stol=0.3, angle_tol=5,primitive_cell=True)"
   ]
  },
  {
   "cell_type": "code",
   "execution_count": null,
   "id": "72e53efa",
   "metadata": {},
   "outputs": [],
   "source": [
    "df=pd.read_csv('../mpids.csv')"
   ]
  },
  {
   "cell_type": "code",
   "execution_count": null,
   "id": "6fa8070c",
   "metadata": {},
   "outputs": [],
   "source": [
    "df.set_index('metadata.material_id',inplace=True)"
   ]
  },
  {
   "cell_type": "code",
   "execution_count": null,
   "id": "e7dc7c3c",
   "metadata": {},
   "outputs": [],
   "source": [
    "m=MPRester()\n",
    "SERVER=\"http://aflow.org\"\n",
    "API=\"/API/aflux/v1.0/?\"\n",
    "DIRECTIVES=\"$paging(0)\""
   ]
  },
  {
   "cell_type": "code",
   "execution_count": null,
   "id": "ca345723",
   "metadata": {},
   "outputs": [],
   "source": [
    "df['sg_symbol']=None\n",
    "df['bader_net_charges']=None\n",
    "df[\"bader_atomic_volumes\"]=None\n",
    "df['aflow_data']=None\n",
    "df['aflow_struct']=None\n",
    "df['Egap']=np.NaN\n",
    "df['Comment_struct']=None\n",
    "df['rms_dist']=None"
   ]
  },
  {
   "cell_type": "code",
   "execution_count": null,
   "id": "8315108e",
   "metadata": {},
   "outputs": [],
   "source": [
    "missing_struct=[]\n",
    "for mpid in df.index:\n",
    "    try:\n",
    "        if mpid=='mp-12992':\n",
    "            mpid='mp-5986'\n",
    "        entry=m.get_structure_by_material_id(mpid)\n",
    "        numsites=entry.num_sites\n",
    "        sg=entry.get_space_group_info()[1]\n",
    "        nspecies=entry.ntypesp\n",
    "        \n",
    "        if len(entry.symbol_set)==1:\n",
    "            ele=str(entry.symbol_set).replace(',', '')\n",
    "        else:\n",
    "            ele=str(entry.symbol_set).replace(' ', '')\n",
    "            \n",
    "        MATCHBOOK=\"spacegroup_relax({}),species{},bader_net_charges(*),natoms({}),nspecies({}),bader_atomic_volumes,Egap\".format(sg,ele,numsites,nspecies) #,agl_thermal_conductivity_300K,ael_speed_sound_longitudinal,ael_speed_sound_transverse,Egap\"\n",
    "        \n",
    "        SUMMONS=MATCHBOOK+\",\"+DIRECTIVES\n",
    "        \n",
    "        response=json.loads(urlopen(SERVER+API+SUMMONS).read().decode(\"utf-8\"))\n",
    "        \n",
    "        for index,val in enumerate(response):\n",
    "            aurl=response[index]['aurl'].replace(':','/')\n",
    "            struct_aflow=Poscar.from_string(urlopen(\"http://\"+aurl+\"/CONTCAR.relax.vasp\").read().decode(\"utf-8\")).structure\n",
    "            RMS=SM.get_rms_dist(struct_aflow,entry)\n",
    "            if SM.fit(struct_aflow,entry):\n",
    "                \n",
    "                struct_aflow.add_oxidation_state_by_site(oxidation_states=response[index]['bader_net_charges'])\n",
    "                cat_an={}\n",
    "                for ele in struct_aflow.species:\n",
    "                    if ele.oxi_state>0:\n",
    "                        cat_an.update({ele.element.symbol:'cation'})\n",
    "                    else:\n",
    "                        cat_an.update({ele.element.symbol:'anion'})\n",
    "                Madelung_Bader= EwaldSummation(struct_aflow).total_energy\n",
    "                \n",
    "                df.at[mpid,\"aflow_data\"]=response[index]\n",
    "                df.at[mpid,\"aflow_struct\"]=struct_aflow\n",
    "                df.at[mpid,\"bader_net_charges\"]=response[index]['bader_net_charges']\n",
    "                df.at[mpid,\"bader_atomic_volumes\"]=response[index]['bader_atomic_volumes']\n",
    "                df.at[mpid,'rms_dist']=RMS\n",
    "                df.loc[mpid,'sg_symbol']=sg\n",
    "                df.loc[mpid,'Egap']=response[index]['Egap']\n",
    "                df.loc[mpid,'Madelung_Bader']=Madelung_Bader\n",
    "                df.loc[mpid,'Comment_struct']='Matched'\n",
    "                df.loc[mpid,'Cation_anion']=[cat_an]\n",
    "                break\n",
    "            else:\n",
    "                df.loc[mpid,'Comment_struct']='Mismatched'\n",
    "    \n",
    "    except HTTPError:\n",
    "        pass"
   ]
  },
  {
   "cell_type": "code",
   "execution_count": null,
   "id": "04325d08",
   "metadata": {},
   "outputs": [],
   "source": [
    "df.to_pickle('./bader_charges.pkl')"
   ]
  }
 ],
 "metadata": {
  "hide_input": false,
  "kernelspec": {
   "display_name": "Python 3 (ipykernel)",
   "language": "python",
   "name": "python3"
  },
  "language_info": {
   "codemirror_mode": {
    "name": "ipython",
    "version": 3
   },
   "file_extension": ".py",
   "mimetype": "text/x-python",
   "name": "python",
   "nbconvert_exporter": "python",
   "pygments_lexer": "ipython3",
   "version": "3.10.9"
  }
 },
 "nbformat": 4,
 "nbformat_minor": 5
}
