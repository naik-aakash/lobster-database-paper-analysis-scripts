{
 "cells": [
  {
   "cell_type": "markdown",
   "id": "2f46f47c",
   "metadata": {},
   "source": [
    "#### Load the necessary modules "
   ]
  },
  {
   "cell_type": "code",
   "execution_count": null,
   "id": "765db9b5",
   "metadata": {},
   "outputs": [],
   "source": [
    "import os\n",
    "import seaborn as sns\n",
    "import multiprocessing as mp\n",
    "import pandas as pd\n",
    "import numpy as np\n",
    "import plotly.graph_objects as go\n",
    "import warnings\n",
    "from mendeleev import element\n",
    "from pymatgen.io.vasp.inputs import Poscar\n",
    "from pymatgen.analysis.ewald import EwaldSummation\n",
    "from pymatgen.io.lobster.outputs import Charge\n",
    "from pymatgen.core.structure import Structure\n",
    "from pymatgen.analysis.bond_valence import BVAnalyzer\n",
    "from pymatgen.core import Composition\n",
    "from pymatgen.analysis.chemenv.coordination_environments.chemenv_strategies import (\n",
    "    SimplestChemenvStrategy, MultiWeightsChemenvStrategy\n",
    ")\n",
    "from pymatgen.analysis.chemenv.coordination_environments.coordination_geometry_finder import (\n",
    "    LocalGeometryFinder,\n",
    ")\n",
    "from pymatgen.analysis.chemenv.coordination_environments.structure_environments import (\n",
    "    LightStructureEnvironments,\n",
    ")\n",
    "from pymatgen.io.lobster.lobsterenv import LobsterNeighbors\n",
    "from pymatviz.histograms import hist_elemental_prevalence\n",
    "from pymatviz.ptable import ptable_heatmap_plotly\n",
    "from tqdm import tqdm\n",
    "from IPython.display import Markdown as md\n",
    "warnings.filterwarnings(\"ignore\")"
   ]
  },
  {
   "cell_type": "markdown",
   "id": "a84189c8",
   "metadata": {},
   "source": [
    "## Processing of the raw data (optional)"
   ]
  },
  {
   "cell_type": "code",
   "execution_count": null,
   "id": "573fe3fc",
   "metadata": {},
   "outputs": [],
   "source": [
    "parent=os.getcwd()\n",
    "os.chdir('Results/') #Change to directory containing raw calculation files"
   ]
  },
  {
   "cell_type": "code",
   "execution_count": null,
   "id": "7032f77e",
   "metadata": {},
   "outputs": [],
   "source": [
    "mpids= [f for f in os.listdir() if not f.startswith('t') and not f.startswith('.') and not f.startswith('__')\n",
    "            and os.path.isdir(f)]\n",
    "mats= list(set([ids.split('_')[0] for ids in mpids]))\n",
    "mats.sort()"
   ]
  },
  {
   "cell_type": "markdown",
   "id": "791b7670",
   "metadata": {},
   "source": [
    "#### Call the function below to reproduce the pandas dataframe with necessary data for the plots from raw calculation files (optional)"
   ]
  },
  {
   "cell_type": "code",
   "execution_count": null,
   "id": "af74dbe6",
   "metadata": {},
   "outputs": [],
   "source": [
    "def comp_cation_anion(mpid):\n",
    "    df=pd.DataFrame(index=[mpid], columns=['Formula','Composition','Spacegroup','BVA_oxi','Loew_oxi','Mull_oxi',\n",
    "                                           'Comp_en_diff','Mull_BVA_elements', 'Loew_BVA_elements',\n",
    "                                           'Mull_Loew_elements'])\n",
    "    \n",
    "    df['Composition'] = df['Composition'].astype(dtype='object')\n",
    "    df['BVA_oxi'] = df['BVA_oxi'].astype(dtype='object')\n",
    "    df['Loew_oxi'] = df['Loew_oxi'].astype(dtype='object')\n",
    "    df['Mull_oxi'] = df['Mull_oxi'].astype(dtype='object')\n",
    "    df['Mull_BVA_elements'] = df['Mull_BVA_elements'].astype(dtype='object')\n",
    "    df['Loew_BVA_elements'] = df['Loew_BVA_elements'].astype(dtype='object')\n",
    "    df['Mull_Loew_elements'] = df['Mull_Loew_elements'].astype(dtype='object')\n",
    "    BV = BVAnalyzer()\n",
    "    \n",
    "    Lobs_charge = Charge(filename='./{}/CHARGE.lobster.gz'.format(mpid))\n",
    "    \n",
    "    struct=Poscar.from_file(filename='./{}/POSCAR.gz'.format(mpid))\n",
    "    \n",
    "    reduced_formula= struct.structure.composition.get_reduced_formula_and_factor()[0]\n",
    "    df.loc[mpid,'Formula'] = reduced_formula\n",
    "    df.loc[mpid,'Spacegroup'] = struct.structure.get_space_group_info()[1]\n",
    "    df.at[mpid,'Composition'] = struct.structure.composition\n",
    "    \n",
    "    en={} #store pauling electronegativities in a dict\n",
    "    for i in struct.structure.composition:\n",
    "        #en.append(element((i.symbol)).en_pauling)\n",
    "        en[i.symbol]=element((i.symbol)).en_pauling\n",
    "    \n",
    "    differences = {} #stores electronegativtiy differencens between unique atom pairs in composition\n",
    "    for key1 in en:\n",
    "        for key2 in en:\n",
    "            if key1 != key2:\n",
    "                if key2+'-'+key1 not in differences:\n",
    "                    diff = abs(en[key1] - en[key2])\n",
    "                    differences[key1+'-'+key2] = diff\n",
    "                    \n",
    "    df.at[mpid,'Comp_en_diff']=differences\n",
    "    \n",
    "    try:\n",
    "        BVA_oxi=[]\n",
    "\n",
    "        for i in BV.get_valences(structure=struct.structure):\n",
    "            if i>=0:\n",
    "                BVA_oxi.append('POS')\n",
    "            else:\n",
    "                BVA_oxi.append('NEG')\n",
    "                \n",
    "        df.at[mpid,'BVA_oxi'] = BV.get_valences(structure=struct.structure)\n",
    "        struct.structure.add_oxidation_state_by_site(BV.get_valences(structure=struct.structure))\n",
    "        BVA_ews =EwaldSummation(struct.structure)\n",
    "        df.loc[mpid,'Madelung_BVA'] = BVA_ews.total_energy\n",
    "\n",
    "        loew=[]\n",
    "        for i in Lobs_charge.Loewdin:\n",
    "            if i>=0:\n",
    "                loew.append('POS')\n",
    "            else:\n",
    "                loew.append('NEG')\n",
    "        \n",
    "        df.at[mpid,'Loew_oxi'] = Lobs_charge.Loewdin\n",
    "        struct.structure.add_oxidation_state_by_site(Lobs_charge.Loewdin)\n",
    "        BVA_ews =EwaldSummation(struct.structure)\n",
    "        df.loc[mpid,'Madelung_Loew'] = BVA_ews.total_energy\n",
    "\n",
    "        Mull=[]\n",
    "        for i in Lobs_charge.Mulliken:\n",
    "            if i>=0:\n",
    "                Mull.append('POS')\n",
    "            else:\n",
    "                Mull.append('NEG')\n",
    "        \n",
    "        df.at[mpid,'Mull_oxi'] = Lobs_charge.Mulliken\n",
    "        struct.structure.add_oxidation_state_by_site(Lobs_charge.Mulliken)\n",
    "        BVA_ews =EwaldSummation(struct.structure)\n",
    "        df.loc[mpid,'Madelung_Mull'] = BVA_ews.total_energy\n",
    "        \n",
    "        if Mull==BVA_oxi:\n",
    "            df.at[mpid,'Mull_BVA_comp'] = 'Agree'\n",
    "        else:\n",
    "            df.at[mpid,'Mull_BVA_comp'] = 'Disagree'\n",
    "            issues=[]\n",
    "            for i,(mull,bva) in enumerate(zip(Mull,BVA_oxi)):\n",
    "                if mull!=bva:\n",
    "                    if struct.structure.sites[i].specie.symbol not in issues:\n",
    "                        issues.append(struct.structure.sites[i].specie.symbol)\n",
    "                    \n",
    "            df.at[mpid,'Mull_BVA_elements'] = Composition(''.join(issues)) #disagree elements\n",
    "        if loew==BVA_oxi:\n",
    "            df.at[mpid,'Loew_BVA_comp'] = 'Agree'\n",
    "        else:\n",
    "            df.at[mpid,'Loew_BVA_comp'] = 'Disagree'\n",
    "            issues=[]\n",
    "            for i,(loe,bva) in enumerate(zip(loew,BVA_oxi)):\n",
    "                if loe!=bva:\n",
    "                    if struct.structure.sites[i].specie.symbol not in issues:\n",
    "                        issues.append(struct.structure.sites[i].specie.symbol)\n",
    "                   \n",
    "            df.at[mpid,'Loew_BVA_elements'] = Composition(''.join(issues)) #disagree elements\n",
    "        \n",
    "        if Mull==loew:\n",
    "            df.at[mpid,'Mull_Loew_comp'] = 'Agree'\n",
    "        else:\n",
    "            df.at[mpid,'Mull_Loew_comp'] = 'Disagree'\n",
    "            issues=[]\n",
    "            for i,(loe,mull) in enumerate(zip(loew,Mull)):\n",
    "                if loe!=mull:\n",
    "                    if struct.structure.sites[i].specie.symbol not in issues:\n",
    "                        issues.append(struct.structure.sites[i].specie.symbol)\n",
    "            df.at[mpid,'Mull_Loew_elements'] = Composition(''.join(issues)) #disagree elements\n",
    "    except:\n",
    "        pass\n",
    "    return df"
   ]
  },
  {
   "cell_type": "code",
   "execution_count": null,
   "id": "993b7d88",
   "metadata": {},
   "outputs": [],
   "source": [
    "#run this block only if you want to get pandas dataframe from calculation files\n",
    "items=mats \n",
    "with mp.Pool(processes=14,maxtasksperchild=1) as pool:\n",
    "    results = tqdm(\n",
    "        pool.imap(comp_cation_anion, items, chunksize=2),\n",
    "        total=len(items),\n",
    "    )  # 'total' is redundant here but can be useful\n",
    "    # when the size of the iterable is unobvious\n",
    "    row=[]\n",
    "    for result in results:\n",
    "        #print(result)\n",
    "        row.append(result)\n",
    "        \n",
    "df = pd.concat(row)"
   ]
  },
  {
   "cell_type": "code",
   "execution_count": null,
   "id": "eb597033",
   "metadata": {},
   "outputs": [],
   "source": [
    "## Recreate analysis from pkl files"
   ]
  },
  {
   "cell_type": "code",
   "execution_count": null,
   "id": "094a08a4",
   "metadata": {},
   "outputs": [],
   "source": [
    "df = pd.read_pickle('./Charge_comp_data.pkl') #Load the dataframe with precomputed data needed for the plots"
   ]
  },
  {
   "cell_type": "code",
   "execution_count": null,
   "id": "e2735801",
   "metadata": {},
   "outputs": [],
   "source": [
    "agree_per = (df.loc[df.Mull_BVA_comp=='Agree'].shape[0] / df.loc[df.Mull_BVA_comp.notna()].shape[0]) * 100"
   ]
  },
  {
   "cell_type": "code",
   "execution_count": null,
   "id": "7162c24c",
   "metadata": {},
   "outputs": [],
   "source": [
    "agree_per"
   ]
  },
  {
   "cell_type": "markdown",
   "id": "4b2f8b97",
   "metadata": {},
   "source": [
    "<h3><center>We see 96 % agreement with BVA method</center></h3>"
   ]
  },
  {
   "cell_type": "markdown",
   "id": "2eca749f",
   "metadata": {},
   "source": [
    "<h3><center>Get scatter plot with electronegativity difference plot for compounds with disagreement wih BVA method</center></h3>"
   ]
  },
  {
   "cell_type": "code",
   "execution_count": null,
   "id": "965d2299",
   "metadata": {},
   "outputs": [],
   "source": [
    "figmain = go.Figure()\n",
    "\n",
    "\n",
    "for row, col in df.loc[df.Mull_BVA_comp=='Disagree'][:20].iterrows(): # change the index slices to get all 3 plots as shown in SI\n",
    "    for i, (k, v) in enumerate(col['Comp_en_diff'].items()):\n",
    "        \n",
    "        figmain.add_trace(go.Scatter(y=[v],\n",
    "                             x=[row+':'+col['Formula']],\n",
    "                                     marker=dict(size=10,color='#1878b6'), name = k))\n",
    "        \n",
    "        figmain.add_annotation(x=row+':'+col['Formula'], y=v, text=k, showarrow=False,\n",
    "                               textangle=0, font=dict(size=14, color='black', family='Arial'),\n",
    "                               xanchor='center', yanchor='bottom')\n",
    "        \n",
    "figmain.update_traces(opacity=0.9)\n",
    "figmain.update_layout(yaxis = dict(tickfont = dict(size=18)))\n",
    "figmain.update_layout(xaxis = dict(tickfont = dict(size=12)))\n",
    "figmain.update_layout(template='simple_white')\n",
    "figmain.update_layout( xaxis_title = 'Compounds', yaxis_title='Electronegativity')\n",
    "figmain.update_yaxes(title_font=dict(size=22), color='black')\n",
    "figmain.update_xaxes(title_font=dict(size=22), color='black')\n",
    "figmain.update_xaxes(showline=True, linewidth=1, linecolor='black', mirror=True)\n",
    "figmain.update_yaxes(showline=True, linewidth=1, linecolor='black', mirror=True)\n",
    "figmain.update_xaxes(ticks=\"inside\", tickwidth=1, tickcolor='black', ticklen=5,tickangle=90)\n",
    "figmain.update_yaxes(ticks=\"inside\", tickwidth=1, tickcolor='black', ticklen=5)\n",
    "figmain.update_layout(showlegend=False)\n",
    "figmain.update_layout(width=1000,height=650)\n",
    "figmain.show()\n",
    "figmain.write_image(\"/en_diff_scatter_1.pdf\",width=1000, height=650)\n",
    "figmain.write_html(\"./en_diff_scatter_1.html\",include_mathjax = 'cdn')"
   ]
  },
  {
   "cell_type": "markdown",
   "id": "3a496f85",
   "metadata": {},
   "source": [
    "<h3><center> Save periodic table heatmap for elements where cation-anion classification disagrees with BVA method</center></h3>"
   ]
  },
  {
   "cell_type": "code",
   "execution_count": null,
   "id": "4d9d0f89",
   "metadata": {},
   "outputs": [],
   "source": [
    "fig = ptable_heatmap_plotly(df.loc[df.Mull_BVA_comp=='Disagree'].Mull_BVA_elements)\n",
    "fig.show()"
   ]
  },
  {
   "cell_type": "code",
   "execution_count": null,
   "id": "52ae223f",
   "metadata": {},
   "outputs": [],
   "source": [
    "fig.write_image(\"./Elements_heatmap_mull_BVA.pdf\",width=1000, height=650)"
   ]
  },
  {
   "cell_type": "code",
   "execution_count": null,
   "id": "ef483b7b",
   "metadata": {},
   "outputs": [],
   "source": []
  }
 ],
 "metadata": {
  "hide_input": false,
  "kernelspec": {
   "display_name": "Python 3 (ipykernel)",
   "language": "python",
   "name": "python3"
  },
  "language_info": {
   "codemirror_mode": {
    "name": "ipython",
    "version": 3
   },
   "file_extension": ".py",
   "mimetype": "text/x-python",
   "name": "python",
   "nbconvert_exporter": "python",
   "pygments_lexer": "ipython3",
   "version": "3.10.9"
  }
 },
 "nbformat": 4,
 "nbformat_minor": 5
}
