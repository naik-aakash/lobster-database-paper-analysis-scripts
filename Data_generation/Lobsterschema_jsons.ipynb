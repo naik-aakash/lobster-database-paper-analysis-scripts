{
 "cells": [
  {
   "cell_type": "code",
   "execution_count": 1,
   "id": "38ef7ef1",
   "metadata": {},
   "outputs": [],
   "source": [
    "from atomate2.lobster.schemas import LobsterTaskDocument\n",
    "from pymatgen.core import Structure\n",
    "import os\n",
    "from lobsterpy.cohp.analyze import Analysis\n",
    "from lobsterpy.cohp.describe import Description\n",
    "import warnings\n",
    "import json\n",
    "import gzip\n",
    "import multiprocessing as mp\n",
    "from multiprocessing.pool import ThreadPool\n",
    "from tqdm import tqdm\n",
    "import gc\n",
    "warnings.filterwarnings('ignore')"
   ]
  },
  {
   "cell_type": "code",
   "execution_count": null,
   "id": "140f5f05",
   "metadata": {},
   "outputs": [],
   "source": [
    "parent=os.getcwd()\n",
    "os.chdir(parent)\n",
    "os.chdir('Results/')"
   ]
  },
  {
   "cell_type": "code",
   "execution_count": null,
   "id": "80b12a46",
   "metadata": {},
   "outputs": [],
   "source": [
    "mpids= [f for f in os.listdir() if not f.startswith('t') and not f.startswith('.') and not f.startswith('__')\n",
    "            and os.path.isdir(f)]\n",
    "mats= list(set([ids.split('_')[0] for ids in mpids]))\n",
    "mats.sort()\n",
    "os.chdir(parent)"
   ]
  },
  {
   "cell_type": "code",
   "execution_count": null,
   "id": "e0be5559",
   "metadata": {},
   "outputs": [],
   "source": [
    "def create_jsons(mpid, json_save_dir='/hpc-user/AG-JGeorge/anaik/Phonon_dataset_LSO/Json_data/'):\n",
    "    parent=os.getcwd()\n",
    "    #print(parent)\n",
    "    os.chdir('Results')\n",
    "    os.chdir(mpid)\n",
    "    path= os.getcwd()\n",
    "    #print(path)\n",
    "    output = LobsterTaskDocument.from_directory(dir_name=path, additional_fields=['DOSCAR.LSO.lobster'])\n",
    "    #json_out = output.copy(deep=True)\n",
    "    output.structure = output.structure.as_dict()\n",
    "    output.cobi_data = output.cobi_data.as_dict()\n",
    "    output.cohp_data = output.cohp_data.as_dict()\n",
    "    output.coop_data = output.coop_data.as_dict()\n",
    "    output.dos = output.dos.as_dict()\n",
    "    output.lso_dos = output.lso_dos.as_dict()\n",
    "    os.chdir(parent)\n",
    "    data = output.dict(exclude={'dir_name','last_updated'})\n",
    "    del output\n",
    "    gc.collect()\n",
    "    with gzip.open(os.path.join(json_save_dir, \"{}.json.gz\".format(mpid)), 'wt', encoding='UTF-8') as f:\n",
    "        json.dump(data, f)\n",
    "    return mpid+' Done'"
   ]
  },
  {
   "cell_type": "code",
   "execution_count": null,
   "id": "78726793",
   "metadata": {},
   "outputs": [],
   "source": [
    "items=mats\n",
    "with mp.Pool(processes=3,maxtasksperchild=1) as pool:\n",
    "    results = tqdm(\n",
    "        pool.imap(create_jsons, items, chunksize=1),\n",
    "        total=len(items),\n",
    "    )\n",
    "    row=[]\n",
    "    for result in results:\n",
    "        row.append(result)"
   ]
  }
 ],
 "metadata": {
  "hide_input": false,
  "kernelspec": {
   "display_name": "Python 3 (ipykernel)",
   "language": "python",
   "name": "python3"
  },
  "language_info": {
   "codemirror_mode": {
    "name": "ipython",
    "version": 3
   },
   "file_extension": ".py",
   "mimetype": "text/x-python",
   "name": "python",
   "nbconvert_exporter": "python",
   "pygments_lexer": "ipython3",
   "version": "3.10.9"
  }
 },
 "nbformat": 4,
 "nbformat_minor": 5
}
