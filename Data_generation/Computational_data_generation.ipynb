{
 "cells": [
  {
   "cell_type": "code",
   "execution_count": null,
   "id": "7adf3130",
   "metadata": {},
   "outputs": [],
   "source": [
    "import warnings\n",
    "warnings.filterwarnings('ignore')\n",
    "import os\n",
    "import json\n",
    "import gzip\n",
    "import multiprocessing as mp\n",
    "from tqdm.autonotebook import tqdm\n",
    "from atomate2.lobster.schemas import LobsterTaskDocument, CondensedBondingAnalysis\n",
    "from pathlib import Path\n",
    "from pymatgen.core import Structure\n",
    "from pymatgen.electronic_structure.cohp import Cohp\n",
    "from pymatgen.electronic_structure.plotter import CohpPlotter\n",
    "from pymatgen.electronic_structure.cohp import CompleteCohp\n",
    "from pymatgen.electronic_structure.dos import LobsterCompleteDos\n",
    "from multiprocessing.pool import ThreadPool"
   ]
  },
  {
   "cell_type": "markdown",
   "id": "6a8d5585",
   "metadata": {},
   "source": [
    "#### Change to directory containing raw calculation files (Will be provided at time of final publication)"
   ]
  },
  {
   "cell_type": "code",
   "execution_count": null,
   "id": "8ddc8d2d",
   "metadata": {},
   "outputs": [],
   "source": [
    "parent=os.getcwd()\n",
    "os.chdir(parent)\n",
    "#os.chdir('Results/') #Directory consisting of lobster outputs\n",
    "os.chdir('/hpc-user/AG-JGeorge/anaik/Phonon_dataset_LSO/Results/')"
   ]
  },
  {
   "cell_type": "code",
   "execution_count": null,
   "id": "a696b7b0",
   "metadata": {},
   "outputs": [],
   "source": [
    "mpids= [f for f in os.listdir() if not f.startswith('t') and not f.startswith('.') and not f.startswith('__')\n",
    "            and os.path.isdir(f)]\n",
    "mats= list(set([ids.split('_')[0] for ids in mpids]))\n",
    "mats.sort()\n",
    "os.chdir(parent)"
   ]
  },
  {
   "cell_type": "code",
   "execution_count": null,
   "id": "0f270227",
   "metadata": {},
   "outputs": [],
   "source": [
    "def replace_inf_values(data):\n",
    "    \"\"\"\n",
    "    This function recursively iterates over the dictionary and its nested dictionaries and lists. \n",
    "    It checks for -inf values and replaces them with the string representation '-Infinity'\n",
    "    \"\"\"\n",
    "    if isinstance(data, dict):\n",
    "        for key, value in data.items():\n",
    "            if isinstance(value, dict) or isinstance(value, list):\n",
    "                replace_inf_values(value)  # Recursively process nested dictionaries and lists\n",
    "            elif value == float('-inf'):\n",
    "                data[key] = '-Infinity'  # Replace -inf with a string representation\n",
    "    elif isinstance(data, list):\n",
    "        for index, item in enumerate(data):\n",
    "            if isinstance(item, dict) or isinstance(item, list):\n",
    "                replace_inf_values(item)  # Recursively process nested dictionaries and lists\n",
    "            elif item == float('-inf'):\n",
    "                data[index] = '-Infinity'  # Replace -inf with a string representation"
   ]
  },
  {
   "cell_type": "code",
   "execution_count": null,
   "id": "678c1985",
   "metadata": {},
   "outputs": [],
   "source": [
    "def create_jsons(mpid, json_save_dir='/path/to/store/computationaldatajsons/'):\n",
    "    \"\"\"\n",
    "    This function will generate LobsterTaskDocument object and save it as json\n",
    "    \"\"\"\n",
    "    \n",
    "    parent=os.getcwd()\n",
    "    #os.chdir('Results')\n",
    "    os.chdir('/hpc-user/AG-JGeorge/anaik/Phonon_dataset_LSO/Results/')\n",
    "    os.chdir(mpid)\n",
    "    path= os.getcwd()\n",
    "    output = LobsterTaskDocument.from_directory(dir_name=path, save_cohp_plots=False, store_lso_dos=True)\n",
    "    \n",
    "    with gzip.open(os.path.join(json_save_dir, \"{}.json.gz\".format(mpid)), 'wt',encoding='UTF-8') as f:\n",
    "        f.write('[')\n",
    "        for attribute in output.__fields__.keys():\n",
    "            if attribute not in ('dir_name', 'last_updated'):\n",
    "                if hasattr(output.__getattribute__(attribute),'dict'):\n",
    "                    if 'lobsterpy_data' in attribute:\n",
    "                        data = output.__getattribute__(attribute).dict()\n",
    "                        for item in data['cohp_plot_data'].items():\n",
    "                            key, value = item\n",
    "                            if hasattr(value, 'as_dict'):# check if item has a `as_dict` method (i.e. it is a pymatgen object)\n",
    "                                data['cohp_plot_data'][key]=value.as_dict()\n",
    "                        data_new={attribute:data}\n",
    "                        replace_inf_values(data_new)\n",
    "                        json.dump(data_new, f)\n",
    "                        if attribute != list(output.__fields__.keys())[-1]: #add comma seperator between two dicts\n",
    "                            f.write(',')\n",
    "                    else:\n",
    "                        data = {attribute:output.__getattribute__(attribute).dict()}\n",
    "                        json.dump(data, f)\n",
    "                        if attribute != list(output.__fields__.keys())[-1]: #add comma seperator between two dicts\n",
    "                            f.write(',')\n",
    "                elif hasattr(output.__getattribute__(attribute),'as_dict'):\n",
    "                    data = {attribute:output.__getattribute__(attribute).as_dict()}\n",
    "                    json.dump(data, f)\n",
    "                    if attribute != list(output.__fields__.keys())[-1]: #add comma seperator between two dicts\n",
    "                        f.write(',')\n",
    "                else:\n",
    "                    data = {attribute:output.__getattribute__(attribute)}\n",
    "                    json.dump(data, f)\n",
    "                    if attribute != list(output.__fields__.keys())[-1]: #add comma seperator between two dicts\n",
    "                        f.write(',')\n",
    "        f.write(']')\n",
    "    return mpid+' Done'"
   ]
  },
  {
   "cell_type": "code",
   "execution_count": null,
   "id": "38ce43f2",
   "metadata": {},
   "outputs": [],
   "source": [
    "# Caution : Make sure to change the number of parallel processes as per your system \n",
    "# (Memory intensive tasks, better to submit jobs on hpc)\n",
    "items=mats\n",
    "with mp.Pool(processes=4,maxtasksperchild=1) as pool:\n",
    "    results = tqdm(\n",
    "        pool.imap_unordered(create_jsons, items, chunksize=1),\n",
    "        total=len(items),\n",
    "    )\n",
    "    row=[]\n",
    "    for result in results:\n",
    "        row.append(result)"
   ]
  }
 ],
 "metadata": {
  "hide_input": false,
  "kernelspec": {
   "display_name": "Python 3 (ipykernel)",
   "language": "python",
   "name": "python3"
  },
  "language_info": {
   "codemirror_mode": {
    "name": "ipython",
    "version": 3
   },
   "file_extension": ".py",
   "mimetype": "text/x-python",
   "name": "python",
   "nbconvert_exporter": "python",
   "pygments_lexer": "ipython3",
   "version": "3.9.16"
  }
 },
 "nbformat": 4,
 "nbformat_minor": 5
}
