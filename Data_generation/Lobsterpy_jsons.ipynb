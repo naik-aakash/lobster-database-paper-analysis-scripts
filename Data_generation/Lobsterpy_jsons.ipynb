{
 "cells": [
  {
   "cell_type": "code",
   "execution_count": null,
   "id": "7a36e4dc",
   "metadata": {},
   "outputs": [],
   "source": [
    "import os\n",
    "import warnings\n",
    "import time\n",
    "import json\n",
    "import gzip\n",
    "from lobsterpy.cohp.analyze import Analysis\n",
    "from pymatgen.electronic_structure.core import Spin\n",
    "from lobsterpy.cohp.describe import Description\n",
    "import multiprocessing as mp\n",
    "from multiprocessing.pool import ThreadPool\n",
    "from tqdm import tqdm\n",
    "warnings.filterwarnings(\"ignore\")"
   ]
  },
  {
   "cell_type": "code",
   "execution_count": null,
   "id": "4d99bbcb",
   "metadata": {},
   "outputs": [],
   "source": [
    "parent=os.getcwd()\n",
    "os.chdir(parent)"
   ]
  },
  {
   "cell_type": "code",
   "execution_count": null,
   "id": "673c7897",
   "metadata": {},
   "outputs": [],
   "source": [
    "os.chdir('Results/')"
   ]
  },
  {
   "cell_type": "code",
   "execution_count": null,
   "id": "8ffaf402",
   "metadata": {},
   "outputs": [],
   "source": [
    "mpids= [f for f in os.listdir() if not f.startswith('t') and not f.startswith('.') and not f.startswith('__')\n",
    "            and os.path.isdir(f)]\n",
    "mats= list(set([ids.split('_')[0] for ids in mpids]))\n",
    "mats.sort()"
   ]
  },
  {
   "cell_type": "code",
   "execution_count": null,
   "id": "66e7e167",
   "metadata": {},
   "outputs": [],
   "source": [
    "def get_lobsterpy_jsons(mpid, json_save_dir='/hpc-user/AG-JGeorge/anaik/Phonon_dataset_LSO/Lobsterpy_json/'):\n",
    "    \n",
    "    directory = mpid\n",
    "    try:\n",
    "        start = time.time()\n",
    "        analyse = Analysis(\n",
    "            path_to_poscar=os.path.join(directory, \"POSCAR.gz\"),\n",
    "            path_to_icohplist=os.path.join(directory, \"ICOHPLIST.lobster.gz\"),\n",
    "            path_to_cohpcar=os.path.join(directory, \"COHPCAR.lobster.gz\"),\n",
    "            path_to_charge=os.path.join(directory, \"CHARGE.lobster.gz\"),\n",
    "            path_to_madelung=os.path.join(directory, \"MadelungEnergies.lobster.gz\"),\n",
    "            whichbonds=\"cation-anion\",\n",
    "            summed_spins=True,\n",
    "        )\n",
    "        cba_run_time = time.time() - start\n",
    "    except (ValueError, KeyError):\n",
    "        start = time.time()\n",
    "        analyse = Analysis(\n",
    "            path_to_poscar=os.path.join(directory, \"POSCAR.gz\"),\n",
    "            path_to_icohplist=os.path.join(directory, \"ICOHPLIST.lobster.gz\"),\n",
    "            path_to_cohpcar=os.path.join(directory, \"COHPCAR.lobster.gz\"),\n",
    "            path_to_charge=os.path.join(directory, \"CHARGE.lobster.gz\"),\n",
    "            path_to_madelung=os.path.join(directory, \"MadelungEnergies.lobster.gz\"),\n",
    "            whichbonds=\"all\",\n",
    "            summed_spins=True,\n",
    "        )\n",
    "        cba_run_time = time.time() - start\n",
    "    cba_cohp_plot_data = {}  # Initialize dict to store plot data\n",
    "    \n",
    "    set_cohps = analyse.set_cohps\n",
    "    set_labels_cohps = analyse.set_labels_cohps\n",
    "    set_inequivalent_cations = analyse.set_inequivalent_ions\n",
    "    struct = analyse.structure\n",
    "    for _iplot, (ication, labels, cohps) in enumerate(\n",
    "        zip(set_inequivalent_cations, set_labels_cohps, set_cohps)\n",
    "    ):\n",
    "        namecation = str(struct[ication].specie)\n",
    "        for label, cohp in zip(labels, cohps):\n",
    "            if label is not None:\n",
    "                cba_cohp_plot_data.update(\n",
    "                    {\n",
    "                        namecation\n",
    "                        + str(ication + 1)\n",
    "                        + \": \"\n",
    "                        + label: {\n",
    "                            \"COHP\": list(cohp.get_cohp()[Spin.up]),\n",
    "                            \"ICOHP\": list(cohp.get_icohp()[Spin.up]),\n",
    "                            \"Energies\": list(cohp.energies),\n",
    "                            \"Efermi\": cohp.efermi,\n",
    "                        }\n",
    "                    }\n",
    "                )\n",
    "    describe = Description(analysis_object=analyse)\n",
    "\n",
    "    result= analyse.condensed_bonding_analysis\n",
    "\n",
    "    result.update({'cohp_plot_data':cba_cohp_plot_data, \n",
    "                   'text_description':\" \".join(describe.text),\n",
    "                   'lobsterpy_run_time': cba_run_time\n",
    "                  })\n",
    "    \n",
    "    with gzip.open(os.path.join(json_save_dir, \"{}.json.gz\".format(mpid)), 'wt', encoding='UTF-8') as f:\n",
    "        json.dump(result, f)\n",
    "\n",
    "\n",
    "    return mpid+' Done'"
   ]
  },
  {
   "cell_type": "code",
   "execution_count": null,
   "id": "38b1cf5c",
   "metadata": {},
   "outputs": [],
   "source": [
    "with mp.Pool(processes=4,maxtasksperchild=1) as pool:\n",
    "    results = tqdm(\n",
    "        pool.imap_unordered(get_lobsterpy_jsons, mats, chunksize=1),\n",
    "        total=len(mats),\n",
    "    )\n",
    "    row=[]\n",
    "    for result in results:\n",
    "        row.append(result)"
   ]
  },
  {
   "cell_type": "code",
   "execution_count": null,
   "id": "7542c376",
   "metadata": {},
   "outputs": [],
   "source": []
  }
 ],
 "metadata": {
  "hide_input": false,
  "kernelspec": {
   "display_name": "Python 3 (ipykernel)",
   "language": "python",
   "name": "python3"
  },
  "language_info": {
   "codemirror_mode": {
    "name": "ipython",
    "version": 3
   },
   "file_extension": ".py",
   "mimetype": "text/x-python",
   "name": "python",
   "nbconvert_exporter": "python",
   "pygments_lexer": "ipython3",
   "version": "3.10.9"
  }
 },
 "nbformat": 4,
 "nbformat_minor": 5
}
