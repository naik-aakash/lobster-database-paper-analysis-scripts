{
 "cells": [
  {
   "cell_type": "code",
   "execution_count": null,
   "id": "9a8b75f1",
   "metadata": {},
   "outputs": [],
   "source": [
    "import pandas as pd\n",
    "import numpy as np\n",
    "import shap\n",
    "from automatminer import MatPipe\n",
    "from automatminer.automl.adaptors import SinglePipelineAdaptor, TPOTAdaptor\n",
    "from automatminer.featurization import AutoFeaturizer\n",
    "from automatminer.preprocessing import DataCleaner, FeatureReducer\n",
    "from sklearn.ensemble import RandomForestClassifier, RandomForestRegressor\n",
    "from matbench.bench import MatbenchBenchmark\n",
    "from sklearn.model_selection import KFold\n",
    "from matminer.datasets.dataset_retrieval import load_dataset"
   ]
  },
  {
   "cell_type": "code",
   "execution_count": null,
   "id": "3b961404",
   "metadata": {},
   "outputs": [],
   "source": [
    "df_phonon = load_dataset('matbench_phonons') # load matminer dataset\n",
    "af =  AutoFeaturizer(n_jobs=10, preset=\"debug\") # initialize matminer featurizer on debug preset\n",
    "df = af.fit_transform(df_phonon,target ='last phdos peak') # get dataframe with features and targets"
   ]
  },
  {
   "cell_type": "code",
   "execution_count": null,
   "id": "834f836d",
   "metadata": {},
   "outputs": [],
   "source": [
    "cv = KFold(n_splits=5, shuffle=True, random_state=18012019) #set cv splits to match matbench"
   ]
  },
  {
   "cell_type": "code",
   "execution_count": null,
   "id": "07b0ad15",
   "metadata": {},
   "outputs": [],
   "source": [
    "#configure matpine of automatminer\n",
    "learner = SinglePipelineAdaptor(\n",
    "                regressor=RandomForestRegressor(n_estimators=500),\n",
    "                classifier=RandomForestClassifier(n_estimators=500),\n",
    "            )\n",
    "pipe_config = {\n",
    "            \"learner\": learner,\n",
    "            \"reducer\": FeatureReducer(reducers=[]),\n",
    "            \"cleaner\": DataCleaner(feature_na_method=\"mean\", max_na_frac=0.01, na_method_fit=\"drop\", na_method_transform=\"mean\"),\n",
    "           \"autofeaturizer\": AutoFeaturizer(n_jobs=10, preset=\"debug\"),\n",
    "        }\n",
    "\n",
    "pipe = MatPipe(**pipe_config)"
   ]
  },
  {
   "cell_type": "code",
   "execution_count": null,
   "id": "d0d325d5",
   "metadata": {},
   "outputs": [],
   "source": [
    "mb = MatbenchBenchmark(autoload=False, subset=['matbench_phonons'])\n",
    "\n",
    "for task in mb.tasks:\n",
    "    task.load()\n",
    "    for fold, (train_ix, test_ix) in zip(task.folds, cv.split(df)):\n",
    "        \n",
    "        # split data\n",
    "        df_train, df_test = df.iloc[train_ix, :], df.iloc[test_ix, :]\n",
    "        #y_train, y_test = df.iloc[train_ix], df.iloc[test_ix]\n",
    "\n",
    "        pipe.fit(df_train, task.metadata.target)\n",
    "\n",
    "        predictions = pipe.predict(df_test)[f\"{task.metadata.target} predicted\"]\n",
    "        \n",
    "        params = {'note': 'single config; see benchmark user metadata'}\n",
    "\n",
    "        task.record(fold, predictions, params=params)\n",
    "        "
   ]
  },
  {
   "cell_type": "code",
   "execution_count": null,
   "id": "f7fbac81",
   "metadata": {},
   "outputs": [],
   "source": [
    "task.scores #get scores for model"
   ]
  },
  {
   "cell_type": "code",
   "execution_count": null,
   "id": "dab6991a",
   "metadata": {},
   "outputs": [],
   "source": [
    "explainer = shap.TreeExplainer(pipe.learner.best_pipeline, df_train.loc[:,df_train.columns[1:]])\n",
    "shap_values = explainer.shap_values(df_train.loc[:,df_train.columns[1:]], check_additivity=False)\n",
    "\n",
    "fig = shap.summary_plot(shap_values, features=df_train.loc[:,df_train.columns[1:]], \n",
    "                        feature_names=df_train.loc[:,df_train.columns[1:]].columns)"
   ]
  },
  {
   "cell_type": "code",
   "execution_count": null,
   "id": "5a60fd33",
   "metadata": {},
   "outputs": [],
   "source": [
    "features_imp = pd.DataFrame(columns=['features','importances'])\n",
    "\n",
    "features_imp['features'] = df_train.loc[:,df_train.columns[1:]].columns\n",
    "features_imp['importances'] = pipe.learner.best_pipeline.feature_importances_\n",
    "\n",
    "#features_imp.to_csv('RF_feature_imp_data.csv')"
   ]
  }
 ],
 "metadata": {
  "hide_input": false,
  "kernelspec": {
   "display_name": "Python 3 (ipykernel)",
   "language": "python",
   "name": "python3"
  },
  "language_info": {
   "codemirror_mode": {
    "name": "ipython",
    "version": 3
   },
   "file_extension": ".py",
   "mimetype": "text/x-python",
   "name": "python",
   "nbconvert_exporter": "python",
   "pygments_lexer": "ipython3",
   "version": "3.8.16"
  }
 },
 "nbformat": 4,
 "nbformat_minor": 5
}
