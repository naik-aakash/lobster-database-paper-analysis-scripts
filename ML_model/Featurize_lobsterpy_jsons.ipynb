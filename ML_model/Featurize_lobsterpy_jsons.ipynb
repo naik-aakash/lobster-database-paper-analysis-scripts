{
 "cells": [
  {
   "cell_type": "code",
   "execution_count": null,
   "id": "c8fd21a0",
   "metadata": {},
   "outputs": [],
   "source": [
    "import os\n",
    "import gzip\n",
    "import json\n",
    "import numpy as np\n",
    "import pandas as pd\n",
    "import multiprocessing as mp\n",
    "import warnings\n",
    "warnings.filterwarnings('ignore')\n",
    "from tqdm.autonotebook import tqdm\n",
    "from featurizer.lobster_featurizer import featurize_lobsterpy_icohp_data"
   ]
  },
  {
   "cell_type": "code",
   "execution_count": null,
   "id": "281027d6",
   "metadata": {},
   "outputs": [],
   "source": [
    "os.chdir('../Lightweight_lobster_jsons/') # path to downloaded lobsterpy lightweight jsons"
   ]
  },
  {
   "cell_type": "code",
   "execution_count": null,
   "id": "f2f9bbf4",
   "metadata": {},
   "outputs": [],
   "source": [
    "filenames = [f for f in os.listdir(\".\")]"
   ]
  },
  {
   "cell_type": "code",
   "execution_count": null,
   "id": "2a752021",
   "metadata": {},
   "outputs": [],
   "source": [
    "with mp.Pool(processes=14,maxtasksperchild=1) as pool:\n",
    "    results = tqdm(\n",
    "        pool.imap_unordered(featurize_lobsterpy_icohp_data, filenames, chunksize=1),\n",
    "        total=len(filenames), desc=\"Generating LobsterPy summary stats dataframe\",\n",
    "    )\n",
    "    row=[]\n",
    "    for result in results:\n",
    "        row.append(result)"
   ]
  },
  {
   "cell_type": "code",
   "execution_count": null,
   "id": "9c1d09ca",
   "metadata": {},
   "outputs": [],
   "source": [
    "df = pd.concat(row)\n",
    "df.sort_index(inplace=True)\n",
    "df.rename_axis('mp-ids',inplace=True)"
   ]
  },
  {
   "cell_type": "code",
   "execution_count": null,
   "id": "aad232ea",
   "metadata": {},
   "outputs": [],
   "source": [
    "df"
   ]
  },
  {
   "cell_type": "code",
   "execution_count": null,
   "id": "4aa51670",
   "metadata": {},
   "outputs": [],
   "source": [
    "df.to_csv('../ML_model/lobsterpy_featurized_data.csv')"
   ]
  }
 ],
 "metadata": {
  "hide_input": false,
  "kernelspec": {
   "display_name": "Python 3 (ipykernel)",
   "language": "python",
   "name": "python3"
  },
  "language_info": {
   "codemirror_mode": {
    "name": "ipython",
    "version": 3
   },
   "file_extension": ".py",
   "mimetype": "text/x-python",
   "name": "python",
   "nbconvert_exporter": "python",
   "pygments_lexer": "ipython3",
   "version": "3.11.4"
  }
 },
 "nbformat": 4,
 "nbformat_minor": 5
}
