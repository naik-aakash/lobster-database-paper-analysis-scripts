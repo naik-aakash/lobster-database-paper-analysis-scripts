{
 "cells": [
  {
   "cell_type": "markdown",
   "id": "0d5356f5",
   "metadata": {},
   "source": [
    "### Load the necessary modules"
   ]
  },
  {
   "cell_type": "code",
   "execution_count": null,
   "id": "9b3fd685",
   "metadata": {},
   "outputs": [],
   "source": [
    "from pymatgen.ext.matproj import MPRester\n",
    "from atomate.vasp.powerups import add_additional_fields_to_taskdocs,set_execution_options\n",
    "from atomate.vasp.workflows.base.lobster import get_wf_lobster_test_basis\n",
    "from fireworks import LaunchPad\n",
    "import pandas as pd\n",
    "import os\n",
    "import warnings\n",
    "warnings.filterwarnings('ignore')"
   ]
  },
  {
   "cell_type": "code",
   "execution_count": null,
   "id": "cfd942f8",
   "metadata": {},
   "outputs": [],
   "source": [
    "df = pd.read_csv('material_ids.csv') # Load the csv file consisting of mp-ids"
   ]
  },
  {
   "cell_type": "code",
   "execution_count": null,
   "id": "d34322cf",
   "metadata": {},
   "outputs": [],
   "source": [
    "mpid = df['metadata.material_id'].values ## store it in a python list"
   ]
  },
  {
   "cell_type": "code",
   "execution_count": null,
   "id": "f9b41854",
   "metadata": {},
   "outputs": [],
   "source": [
    "m= MPRester() # initialize materails project api module"
   ]
  },
  {
   "cell_type": "code",
   "execution_count": null,
   "id": "c82985b5",
   "metadata": {},
   "outputs": [],
   "source": [
    "for i in mpid:\n",
    "    struct=m.get_structure_by_material_id(i) # fetche the structure using material id \n",
    "    wf = get_wf_lobster_test_basis(structure=struct, \n",
    "                                   user_incar_settings = {\"NEDOS\":10000, \"ICHARG\":2}, #modify vasp static run settings \n",
    "                                   user_kpoints_settings= {\"grid_density\":6000}, #sets k-point grid\n",
    "                                   user_lobsterin_settings={\"LSODOS\":True}, # makes lobster calculate LSO dos\n",
    "                                   calculation_type='standard_with_energy_range_from_vasprun') \n",
    "    update_dict={\"material-id\": i} \n",
    "\n",
    "    #This is a powerup to add the material-id to the database\n",
    "    wf=add_additional_fields_to_taskdocs(wf,update_dict=update_dict, task_name_constraint='VaspToDb')\n",
    "    wf=add_additional_fields_to_taskdocs(wf,update_dict=update_dict, task_name_constraint='LobsterRunToDb')\n",
    "\n",
    "    wf=set_execution_options(wf, fworker_name=\"supermuc_lobster\", category=None, fw_name_constraint=\"lobster_calculation\", task_name_constraint=None)\n",
    "    wf=set_execution_options(wf, fworker_name=\"supermuc_delete\", category=None, fw_name_constraint=\"DelteWavecar\", task_name_constraint=None)\n",
    "\n",
    "\n",
    "    lpad = LaunchPad.auto_load() # loads this based on the FireWorks configuration\n",
    "    lpad.add_wf(wf) #adds workflow to firework database"
   ]
  },
  {
   "cell_type": "code",
   "execution_count": null,
   "id": "d88555d8",
   "metadata": {},
   "outputs": [],
   "source": []
  }
 ],
 "metadata": {
  "kernelspec": {
   "display_name": "Python 3 (ipykernel)",
   "language": "python",
   "name": "python3"
  },
  "language_info": {
   "codemirror_mode": {
    "name": "ipython",
    "version": 3
   },
   "file_extension": ".py",
   "mimetype": "text/x-python",
   "name": "python",
   "nbconvert_exporter": "python",
   "pygments_lexer": "ipython3",
   "version": "3.10.9"
  }
 },
 "nbformat": 4,
 "nbformat_minor": 5
}
